{
 "cells": [
  {
   "cell_type": "code",
   "execution_count": 52,
   "metadata": {},
   "outputs": [],
   "source": [
    "import pandas as pd\n",
    "import matplotlib.pyplot as plt"
   ]
  },
  {
   "cell_type": "code",
   "execution_count": 7,
   "metadata": {},
   "outputs": [],
   "source": [
    "articles_good = pd.read_csv(\"data/ainur/article_good.csv\")\n",
    "articles_nsgood = pd.read_csv(\"data/ainur/article_bad.csv\")"
   ]
  },
  {
   "cell_type": "code",
   "execution_count": 11,
   "metadata": {},
   "outputs": [
    {
     "data": {
      "text/plain": [
       "pandas.core.frame.DataFrame"
      ]
     },
     "execution_count": 11,
     "metadata": {},
     "output_type": "execute_result"
    }
   ],
   "source": [
    "type(articles_good)"
   ]
  },
  {
   "cell_type": "code",
   "execution_count": 13,
   "metadata": {},
   "outputs": [
    {
     "data": {
      "text/html": [
       "<div>\n",
       "<style scoped>\n",
       "    .dataframe tbody tr th:only-of-type {\n",
       "        vertical-align: middle;\n",
       "    }\n",
       "\n",
       "    .dataframe tbody tr th {\n",
       "        vertical-align: top;\n",
       "    }\n",
       "\n",
       "    .dataframe thead th {\n",
       "        text-align: right;\n",
       "    }\n",
       "</style>\n",
       "<table border=\"1\" class=\"dataframe\">\n",
       "  <thead>\n",
       "    <tr style=\"text-align: right;\">\n",
       "      <th></th>\n",
       "      <th>Unnamed: 0</th>\n",
       "      <th>Article</th>\n",
       "      <th>rev_id</th>\n",
       "      <th>page_id</th>\n",
       "      <th>user</th>\n",
       "      <th>timestamp</th>\n",
       "      <th>Quality</th>\n",
       "      <th>article_type</th>\n",
       "    </tr>\n",
       "  </thead>\n",
       "  <tbody>\n",
       "    <tr>\n",
       "      <th>0</th>\n",
       "      <td>0</td>\n",
       "      <td>Parallel computing</td>\n",
       "      <td>869792687</td>\n",
       "      <td>22770</td>\n",
       "      <td>Arjayay</td>\n",
       "      <td>2018-11-20T11:45:46Z</td>\n",
       "      <td>FA</td>\n",
       "      <td>Good</td>\n",
       "    </tr>\n",
       "    <tr>\n",
       "      <th>1</th>\n",
       "      <td>1</td>\n",
       "      <td>Parallel computing</td>\n",
       "      <td>869792656</td>\n",
       "      <td>22770</td>\n",
       "      <td>88.98.30.181</td>\n",
       "      <td>2018-11-20T11:45:28Z</td>\n",
       "      <td>FA</td>\n",
       "      <td>Good</td>\n",
       "    </tr>\n",
       "    <tr>\n",
       "      <th>2</th>\n",
       "      <td>2</td>\n",
       "      <td>Parallel computing</td>\n",
       "      <td>869394838</td>\n",
       "      <td>22770</td>\n",
       "      <td>Daiyusha</td>\n",
       "      <td>2018-11-18T09:20:26Z</td>\n",
       "      <td>FA</td>\n",
       "      <td>Good</td>\n",
       "    </tr>\n",
       "    <tr>\n",
       "      <th>3</th>\n",
       "      <td>3</td>\n",
       "      <td>Parallel computing</td>\n",
       "      <td>869380602</td>\n",
       "      <td>22770</td>\n",
       "      <td>2600:8801:983:7000:21D4:4DD3:80E2:3E60</td>\n",
       "      <td>2018-11-18T06:46:03Z</td>\n",
       "      <td>FA</td>\n",
       "      <td>Good</td>\n",
       "    </tr>\n",
       "    <tr>\n",
       "      <th>4</th>\n",
       "      <td>4</td>\n",
       "      <td>Parallel computing</td>\n",
       "      <td>869210492</td>\n",
       "      <td>22770</td>\n",
       "      <td>Jackfork</td>\n",
       "      <td>2018-11-17T03:18:43Z</td>\n",
       "      <td>FA</td>\n",
       "      <td>Good</td>\n",
       "    </tr>\n",
       "  </tbody>\n",
       "</table>\n",
       "</div>"
      ],
      "text/plain": [
       "   Unnamed: 0             Article     rev_id  page_id  \\\n",
       "0           0  Parallel computing  869792687    22770   \n",
       "1           1  Parallel computing  869792656    22770   \n",
       "2           2  Parallel computing  869394838    22770   \n",
       "3           3  Parallel computing  869380602    22770   \n",
       "4           4  Parallel computing  869210492    22770   \n",
       "\n",
       "                                     user             timestamp Quality  \\\n",
       "0                                 Arjayay  2018-11-20T11:45:46Z      FA   \n",
       "1                            88.98.30.181  2018-11-20T11:45:28Z      FA   \n",
       "2                                Daiyusha  2018-11-18T09:20:26Z      FA   \n",
       "3  2600:8801:983:7000:21D4:4DD3:80E2:3E60  2018-11-18T06:46:03Z      FA   \n",
       "4                                Jackfork  2018-11-17T03:18:43Z      FA   \n",
       "\n",
       "  article_type  \n",
       "0         Good  \n",
       "1         Good  \n",
       "2         Good  \n",
       "3         Good  \n",
       "4         Good  "
      ]
     },
     "execution_count": 13,
     "metadata": {},
     "output_type": "execute_result"
    }
   ],
   "source": [
    "articles_good.head()"
   ]
  },
  {
   "cell_type": "code",
   "execution_count": 221,
   "metadata": {},
   "outputs": [
    {
     "data": {
      "text/plain": [
       "Article\n",
       "4chan                              [Certes, 2600:8801:983:7000:21D4:4DD3:80E2:3E6...\n",
       "AACS encryption key controversy    [2409:4062:209D:1376:A498:A3DA:38DA:55E9, Aoi,...\n",
       "AVG PC TuneUp                      [Certes, 2405:205:3202:4746:B8B7:A4C9:4E96:F74...\n",
       "Acid2                              [ClueBot NG, 190.43.57.117, 125.63.26.99, Just...\n",
       "Alan Kotok                         [Plaba123, 99.85.40.29, Certes, ClueBot NG, Ma...\n",
       "Name: user, dtype: object"
      ]
     },
     "execution_count": 221,
     "metadata": {},
     "output_type": "execute_result"
    }
   ],
   "source": [
    "articles_good.groupby('Article').agg('user').unique().head()"
   ]
  },
  {
   "cell_type": "markdown",
   "metadata": {},
   "source": [
    "# Aspect 1: Total number of unique editors"
   ]
  },
  {
   "cell_type": "markdown",
   "metadata": {},
   "source": [
    "### My Hypothesis: \n",
    "\n",
    "**Good** articles have more diverse numbers of unique editors than the **not-so-good** articles"
   ]
  },
  {
   "cell_type": "code",
   "execution_count": 47,
   "metadata": {},
   "outputs": [
    {
     "data": {
      "text/html": [
       "<div>\n",
       "<style scoped>\n",
       "    .dataframe tbody tr th:only-of-type {\n",
       "        vertical-align: middle;\n",
       "    }\n",
       "\n",
       "    .dataframe tbody tr th {\n",
       "        vertical-align: top;\n",
       "    }\n",
       "\n",
       "    .dataframe thead th {\n",
       "        text-align: right;\n",
       "    }\n",
       "</style>\n",
       "<table border=\"1\" class=\"dataframe\">\n",
       "  <thead>\n",
       "    <tr style=\"text-align: right;\">\n",
       "      <th></th>\n",
       "      <th>user</th>\n",
       "    </tr>\n",
       "    <tr>\n",
       "      <th>Article</th>\n",
       "      <th></th>\n",
       "    </tr>\n",
       "  </thead>\n",
       "  <tbody>\n",
       "    <tr>\n",
       "      <th>4chan</th>\n",
       "      <td>[Certes, 2600:8801:983:7000:21D4:4DD3:80E2:3E6...</td>\n",
       "    </tr>\n",
       "    <tr>\n",
       "      <th>AACS encryption key controversy</th>\n",
       "      <td>[2409:4062:209D:1376:A498:A3DA:38DA:55E9, Aoi,...</td>\n",
       "    </tr>\n",
       "    <tr>\n",
       "      <th>AVG PC TuneUp</th>\n",
       "      <td>[Certes, 2405:205:3202:4746:B8B7:A4C9:4E96:F74...</td>\n",
       "    </tr>\n",
       "    <tr>\n",
       "      <th>Acid2</th>\n",
       "      <td>[ClueBot NG, 190.43.57.117, 125.63.26.99, Just...</td>\n",
       "    </tr>\n",
       "    <tr>\n",
       "      <th>Alan Kotok</th>\n",
       "      <td>[Plaba123, 99.85.40.29, Certes, ClueBot NG, Ma...</td>\n",
       "    </tr>\n",
       "  </tbody>\n",
       "</table>\n",
       "</div>"
      ],
      "text/plain": [
       "                                                                              user\n",
       "Article                                                                           \n",
       "4chan                            [Certes, 2600:8801:983:7000:21D4:4DD3:80E2:3E6...\n",
       "AACS encryption key controversy  [2409:4062:209D:1376:A498:A3DA:38DA:55E9, Aoi,...\n",
       "AVG PC TuneUp                    [Certes, 2405:205:3202:4746:B8B7:A4C9:4E96:F74...\n",
       "Acid2                            [ClueBot NG, 190.43.57.117, 125.63.26.99, Just...\n",
       "Alan Kotok                       [Plaba123, 99.85.40.29, Certes, ClueBot NG, Ma..."
      ]
     },
     "execution_count": 47,
     "metadata": {},
     "output_type": "execute_result"
    }
   ],
   "source": [
    "pd.DataFrame(articles_good.groupby('Article').agg('user').unique()).head()"
   ]
  },
  {
   "cell_type": "code",
   "execution_count": 57,
   "metadata": {},
   "outputs": [
    {
     "data": {
      "text/html": [
       "<div>\n",
       "<style scoped>\n",
       "    .dataframe tbody tr th:only-of-type {\n",
       "        vertical-align: middle;\n",
       "    }\n",
       "\n",
       "    .dataframe tbody tr th {\n",
       "        vertical-align: top;\n",
       "    }\n",
       "\n",
       "    .dataframe thead tr th {\n",
       "        text-align: left;\n",
       "    }\n",
       "</style>\n",
       "<table border=\"1\" class=\"dataframe\">\n",
       "  <thead>\n",
       "    <tr>\n",
       "      <th></th>\n",
       "      <th>user</th>\n",
       "    </tr>\n",
       "    <tr>\n",
       "      <th></th>\n",
       "      <th>nunique</th>\n",
       "    </tr>\n",
       "  </thead>\n",
       "  <tbody>\n",
       "    <tr>\n",
       "      <th>count</th>\n",
       "      <td>152.000000</td>\n",
       "    </tr>\n",
       "    <tr>\n",
       "      <th>mean</th>\n",
       "      <td>148.223684</td>\n",
       "    </tr>\n",
       "    <tr>\n",
       "      <th>std</th>\n",
       "      <td>376.060623</td>\n",
       "    </tr>\n",
       "    <tr>\n",
       "      <th>min</th>\n",
       "      <td>4.000000</td>\n",
       "    </tr>\n",
       "    <tr>\n",
       "      <th>25%</th>\n",
       "      <td>13.000000</td>\n",
       "    </tr>\n",
       "    <tr>\n",
       "      <th>50%</th>\n",
       "      <td>46.000000</td>\n",
       "    </tr>\n",
       "    <tr>\n",
       "      <th>75%</th>\n",
       "      <td>99.000000</td>\n",
       "    </tr>\n",
       "    <tr>\n",
       "      <th>max</th>\n",
       "      <td>2817.000000</td>\n",
       "    </tr>\n",
       "  </tbody>\n",
       "</table>\n",
       "</div>"
      ],
      "text/plain": [
       "              user\n",
       "           nunique\n",
       "count   152.000000\n",
       "mean    148.223684\n",
       "std     376.060623\n",
       "min       4.000000\n",
       "25%      13.000000\n",
       "50%      46.000000\n",
       "75%      99.000000\n",
       "max    2817.000000"
      ]
     },
     "execution_count": 57,
     "metadata": {},
     "output_type": "execute_result"
    }
   ],
   "source": [
    "series_n_contributer = articles_good.groupby('Article').agg({'user': ['nunique']})\n",
    "series_n_contributer.describe()"
   ]
  },
  {
   "cell_type": "markdown",
   "metadata": {},
   "source": [
    "## Find outliners"
   ]
  },
  {
   "cell_type": "code",
   "execution_count": 78,
   "metadata": {},
   "outputs": [
    {
     "data": {
      "text/plain": [
       "array([[<matplotlib.axes._subplots.AxesSubplot object at 0x0000029EF6C9FE80>]],\n",
       "      dtype=object)"
      ]
     },
     "execution_count": 78,
     "metadata": {},
     "output_type": "execute_result"
    },
    {
     "data": {
      "image/png": "[encoded data removed]",
      "text/plain": [
       "<Figure size 432x288 with 1 Axes>"
      ]
     },
     "metadata": {},
     "output_type": "display_data"
    }
   ],
   "source": [
    "series_n_contributer.hist(bins=40)"
   ]
  },
  {
   "cell_type": "code",
   "execution_count": 95,
   "metadata": {},
   "outputs": [
    {
     "data": {
      "text/plain": [
       "<matplotlib.axes._subplots.AxesSubplot at 0x29ef70357f0>"
      ]
     },
     "execution_count": 95,
     "metadata": {},
     "output_type": "execute_result"
    },
    {
     "data": {
      "image/png": "[encoded data removed]",
      "text/plain": [
       "<Figure size 432x288 with 1 Axes>"
      ]
     },
     "metadata": {},
     "output_type": "display_data"
    }
   ],
   "source": [
    "series_n_contributer.boxplot(showfliers=False)"
   ]
  },
  {
   "cell_type": "code",
   "execution_count": 222,
   "metadata": {},
   "outputs": [],
   "source": [
    "# By looking at the boxplot, we treat n_contributer over 175 as outliners:"
   ]
  },
  {
   "cell_type": "code",
   "execution_count": 100,
   "metadata": {},
   "outputs": [
    {
     "name": "stdout",
     "output_type": "stream",
     "text": [
      "Article\n",
      "4chan                                    1167\n",
      "Acid2                                     779\n",
      "Delrina                                  1294\n",
      "Folding@home                             1332\n",
      "Macintosh Classic                        1060\n",
      "Manchester Baby                          2817\n",
      "Manchester Mark 1                        1283\n",
      "Microsoft Security Essentials            1197\n",
      "NeXT                                     1727\n",
      "Parallel computing                       1824\n",
      "Rise of Nations: Thrones and Patriots     291\n",
      "Name: unique, dtype: object\n"
     ]
    },
    {
     "data": {
      "text/plain": [
       "count       11\n",
       "unique      11\n",
       "top       1167\n",
       "freq         1\n",
       "Name: unique, dtype: int64"
      ]
     },
     "execution_count": 100,
     "metadata": {},
     "output_type": "execute_result"
    }
   ],
   "source": [
    "task1_good = pd.Series(articles_good.groupby('Article').agg('user').describe()['unique'])\n",
    "outliners = task1_good[ task1_good>250 ]\n",
    "print(outliners)\n",
    "outliners.describe()\n",
    "\n",
    "# articles_good.groupby('Article').agg('user').describe()['unique'].sort_values()[::-1].head(15)"
   ]
  },
  {
   "cell_type": "code",
   "execution_count": 217,
   "metadata": {},
   "outputs": [],
   "source": [
    "# Let's compare with the not-so-good one"
   ]
  },
  {
   "cell_type": "code",
   "execution_count": 224,
   "metadata": {},
   "outputs": [
    {
     "data": {
      "text/plain": [
       "<matplotlib.axes._subplots.AxesSubplot at 0x29ef87139b0>"
      ]
     },
     "execution_count": 224,
     "metadata": {},
     "output_type": "execute_result"
    },
    {
     "data": {
      "image/png": "[encoded data removed]",
      "text/plain": [
       "<Figure size 432x288 with 1 Axes>"
      ]
     },
     "metadata": {},
     "output_type": "display_data"
    }
   ],
   "source": [
    "s_nsgood = articles_nsgood.groupby('Article').agg({'user': ['nunique']})\n",
    "s_nsgood.boxplot(showfliers=False)"
   ]
  },
  {
   "cell_type": "code",
   "execution_count": null,
   "metadata": {},
   "outputs": [],
   "source": [
    "# By looking at the boxplot, we treat n_contributer of not-so-good articles over 120 as outliners:"
   ]
  },
  {
   "cell_type": "code",
   "execution_count": 225,
   "metadata": {},
   "outputs": [
    {
     "name": "stdout",
     "output_type": "stream",
     "text": [
      "Article\n",
      "4chan                                       1167\n",
      "Acid2                                        779\n",
      "Delrina                                     1294\n",
      "Eugene Kaspersky                             139\n",
      "Folding@home                                1332\n",
      "Fortinet                                     144\n",
      "Heartbleed                                   157\n",
      "History of computing in the Soviet Union     161\n",
      "ILoo                                         122\n",
      "Integer sorting                              125\n",
      "JMP (statistical software)                   128\n",
      "Jeremy Stoppelman                            123\n",
      "Macintosh Classic                           1060\n",
      "Manchester Baby                             2817\n",
      "Manchester Mark 1                           1283\n",
      "Microsoft Security Essentials               1197\n",
      "Mya (program)                                125\n",
      "NeXT                                        1727\n",
      "Nimrod (computing)                           135\n",
      "Parallel computing                          1824\n",
      "Paxata                                       132\n",
      "Polygon (website)                            176\n",
      "Rise of Nations: Thrones and Patriots        291\n",
      "Rosetta@home                                 143\n",
      "Symantec Endpoint Protection                 122\n",
      "The Million Dollar Homepage                  129\n",
      "Watson (computer)                            121\n",
      "Name: unique, dtype: object\n"
     ]
    },
    {
     "data": {
      "text/plain": [
       "count      27\n",
       "unique     25\n",
       "top       125\n",
       "freq        2\n",
       "Name: unique, dtype: int64"
      ]
     },
     "execution_count": 225,
     "metadata": {},
     "output_type": "execute_result"
    }
   ],
   "source": [
    "task1_nsgood = pd.Series(articles_nsgood.groupby('Article').agg('user').describe()['unique'])\n",
    "outliners = task1_good[ task1_good>120 ]\n",
    "print(outliners)\n",
    "outliners.describe()"
   ]
  },
  {
   "cell_type": "code",
   "execution_count": 227,
   "metadata": {},
   "outputs": [],
   "source": [
    "# Compare the boxplots together"
   ]
  },
  {
   "cell_type": "code",
   "execution_count": 234,
   "metadata": {},
   "outputs": [
    {
     "data": {
      "text/plain": [
       "{'whiskers': [<matplotlib.lines.Line2D at 0x29ef9ac8a20>,\n",
       "  <matplotlib.lines.Line2D at 0x29ef9ac82b0>,\n",
       "  <matplotlib.lines.Line2D at 0x29ef9af2cc0>,\n",
       "  <matplotlib.lines.Line2D at 0x29ef9aa3128>],\n",
       " 'caps': [<matplotlib.lines.Line2D at 0x29ef9ac8c50>,\n",
       "  <matplotlib.lines.Line2D at 0x29ef9ac8320>,\n",
       "  <matplotlib.lines.Line2D at 0x29ef9aa3550>,\n",
       "  <matplotlib.lines.Line2D at 0x29ef9aa3978>],\n",
       " 'boxes': [<matplotlib.lines.Line2D at 0x29ef9ac8710>,\n",
       "  <matplotlib.lines.Line2D at 0x29ef9af2128>],\n",
       " 'medians': [<matplotlib.lines.Line2D at 0x29ef9af2358>,\n",
       "  <matplotlib.lines.Line2D at 0x29ef9aa3da0>],\n",
       " 'fliers': [],\n",
       " 'means': []}"
      ]
     },
     "execution_count": 234,
     "metadata": {},
     "output_type": "execute_result"
    },
    {
     "data": {
      "image/png": "[encoded data removed]",
      "text/plain": [
       "<Figure size 432x288 with 1 Axes>"
      ]
     },
     "metadata": {},
     "output_type": "display_data"
    }
   ],
   "source": [
    "g = pd.Series(articles_good.groupby('Article').agg('user').describe()['unique'])\n",
    "nsg = pd.Series(articles_nsgood.groupby('Article').agg('user').describe()['unique'])\n",
    "plt.boxplot([g, nsg], showfliers=False)"
   ]
  },
  {
   "cell_type": "markdown",
   "metadata": {},
   "source": [
    "This concludes that my hypothesis that **Good** articles have more diverse numbers of unique editors than the **not-so-good** articles "
   ]
  },
  {
   "cell_type": "markdown",
   "metadata": {},
   "source": [
    "# Aspect 2: Number of edits per editors"
   ]
  },
  {
   "cell_type": "markdown",
   "metadata": {},
   "source": [
    "### My Hypothesis: \n",
    "\n",
    "**Good** articles have higher numbers of edits per editors than the **not-so-good** articles\n",
    "\n",
    "    The editors comes back frequently to improve the articles and thus makes the article better.\n",
    "    \n"
   ]
  },
  {
   "cell_type": "markdown",
   "metadata": {},
   "source": [
    "# Aspect 5: Frequency of edits (time between edits)"
   ]
  },
  {
   "cell_type": "markdown",
   "metadata": {},
   "source": [
    "### My Hypothesis: \n",
    "\n",
    "**Good** articles have lower frequency of edits than the **not-so-good** articles"
   ]
  },
  {
   "cell_type": "code",
   "execution_count": 238,
   "metadata": {},
   "outputs": [
    {
     "data": {
      "text/html": [
       "<div>\n",
       "<style scoped>\n",
       "    .dataframe tbody tr th:only-of-type {\n",
       "        vertical-align: middle;\n",
       "    }\n",
       "\n",
       "    .dataframe tbody tr th {\n",
       "        vertical-align: top;\n",
       "    }\n",
       "\n",
       "    .dataframe thead th {\n",
       "        text-align: right;\n",
       "    }\n",
       "</style>\n",
       "<table border=\"1\" class=\"dataframe\">\n",
       "  <thead>\n",
       "    <tr style=\"text-align: right;\">\n",
       "      <th></th>\n",
       "      <th>timestamp</th>\n",
       "    </tr>\n",
       "    <tr>\n",
       "      <th>Article</th>\n",
       "      <th></th>\n",
       "    </tr>\n",
       "  </thead>\n",
       "  <tbody>\n",
       "    <tr>\n",
       "      <th>4chan</th>\n",
       "      <td>[2018-11-18T11:21:12Z, 2018-11-18T06:09:03Z, 2...</td>\n",
       "    </tr>\n",
       "    <tr>\n",
       "      <th>AACS encryption key controversy</th>\n",
       "      <td>[2018-06-24T18:20:28Z, 2018-04-16T22:03:13Z, 2...</td>\n",
       "    </tr>\n",
       "    <tr>\n",
       "      <th>AVG PC TuneUp</th>\n",
       "      <td>[2017-11-10T11:47:34Z, 2017-11-10T10:01:50Z, 2...</td>\n",
       "    </tr>\n",
       "    <tr>\n",
       "      <th>Acid2</th>\n",
       "      <td>[2018-11-14T21:54:02Z, 2018-11-14T21:54:00Z, 2...</td>\n",
       "    </tr>\n",
       "    <tr>\n",
       "      <th>Alan Kotok</th>\n",
       "      <td>[2018-10-20T02:26:38Z, 2018-10-20T02:26:28Z, 2...</td>\n",
       "    </tr>\n",
       "  </tbody>\n",
       "</table>\n",
       "</div>"
      ],
      "text/plain": [
       "                                                                         timestamp\n",
       "Article                                                                           \n",
       "4chan                            [2018-11-18T11:21:12Z, 2018-11-18T06:09:03Z, 2...\n",
       "AACS encryption key controversy  [2018-06-24T18:20:28Z, 2018-04-16T22:03:13Z, 2...\n",
       "AVG PC TuneUp                    [2017-11-10T11:47:34Z, 2017-11-10T10:01:50Z, 2...\n",
       "Acid2                            [2018-11-14T21:54:02Z, 2018-11-14T21:54:00Z, 2...\n",
       "Alan Kotok                       [2018-10-20T02:26:38Z, 2018-10-20T02:26:28Z, 2..."
      ]
     },
     "execution_count": 238,
     "metadata": {},
     "output_type": "execute_result"
    }
   ],
   "source": [
    "task5_good = pd.DataFrame(articles_good.groupby('Article').agg('timestamp').unique())\n",
    "task5_good_m = articles_good.groupby('Article').agg({'user': ['nunique']})\n",
    "task5_good.head()"
   ]
  },
  {
   "cell_type": "code",
   "execution_count": 195,
   "metadata": {},
   "outputs": [
    {
     "data": {
      "text/plain": [
       "Timedelta('2 days 20:06:20.697937')"
      ]
     },
     "execution_count": 195,
     "metadata": {},
     "output_type": "execute_result"
    }
   ],
   "source": [
    "one_article = task5_good.loc['4chan']\n",
    "one_article.loc['timestamp']\n",
    "time_series = pd.Series([pd.Timestamp(i) for i in one_article.loc['timestamp']])\n",
    "time_series = time_series.sort_values()\n",
    "time_series.diff().mean()"
   ]
  },
  {
   "cell_type": "code",
   "execution_count": 163,
   "metadata": {},
   "outputs": [
    {
     "name": "stdout",
     "output_type": "stream",
     "text": [
      "timestamp    [2018-11-18T11:21:12Z, 2018-11-18T06:09:03Z, 2...\n",
      "Name: 4chan, dtype: object\n",
      "4chan\n"
     ]
    }
   ],
   "source": [
    "for index, row in task5_good.iterrows():\n",
    "    print(row)\n",
    "    print(row.name)\n",
    "    break"
   ]
  },
  {
   "cell_type": "code",
   "execution_count": 211,
   "metadata": {},
   "outputs": [],
   "source": [
    "def measure_freq(article_name, df):\n",
    "    one_article = df.loc[article_name]\n",
    "    one_article.loc['timestamp']\n",
    "    time_series = pd.Series([pd.Timestamp(i) for i in one_article.loc['timestamp']])\n",
    "    time_series = time_series.sort_values()\n",
    "    # time_series.diff().describe()\n",
    "    return time_series.diff().astype('timedelta64[s]').mean()"
   ]
  },
  {
   "cell_type": "code",
   "execution_count": 213,
   "metadata": {},
   "outputs": [
    {
     "data": {
      "text/html": [
       "<div>\n",
       "<style scoped>\n",
       "    .dataframe tbody tr th:only-of-type {\n",
       "        vertical-align: middle;\n",
       "    }\n",
       "\n",
       "    .dataframe tbody tr th {\n",
       "        vertical-align: top;\n",
       "    }\n",
       "\n",
       "    .dataframe thead th {\n",
       "        text-align: right;\n",
       "    }\n",
       "</style>\n",
       "<table border=\"1\" class=\"dataframe\">\n",
       "  <thead>\n",
       "    <tr style=\"text-align: right;\">\n",
       "      <th></th>\n",
       "      <th>Article</th>\n",
       "      <th>mean_edit_timediff</th>\n",
       "    </tr>\n",
       "  </thead>\n",
       "  <tbody>\n",
       "    <tr>\n",
       "      <th>0</th>\n",
       "      <td>4chan</td>\n",
       "      <td>2.451807e+05</td>\n",
       "    </tr>\n",
       "    <tr>\n",
       "      <th>1</th>\n",
       "      <td>AACS encryption key controversy</td>\n",
       "      <td>1.895115e+07</td>\n",
       "    </tr>\n",
       "    <tr>\n",
       "      <th>2</th>\n",
       "      <td>AVG PC TuneUp</td>\n",
       "      <td>6.864113e+06</td>\n",
       "    </tr>\n",
       "    <tr>\n",
       "      <th>3</th>\n",
       "      <td>Acid2</td>\n",
       "      <td>3.684713e+05</td>\n",
       "    </tr>\n",
       "    <tr>\n",
       "      <th>4</th>\n",
       "      <td>Alan Kotok</td>\n",
       "      <td>5.924646e+06</td>\n",
       "    </tr>\n",
       "  </tbody>\n",
       "</table>\n",
       "</div>"
      ],
      "text/plain": [
       "                           Article  mean_edit_timediff\n",
       "0                            4chan        2.451807e+05\n",
       "1  AACS encryption key controversy        1.895115e+07\n",
       "2                    AVG PC TuneUp        6.864113e+06\n",
       "3                            Acid2        3.684713e+05\n",
       "4                       Alan Kotok        5.924646e+06"
      ]
     },
     "execution_count": 213,
     "metadata": {},
     "output_type": "execute_result"
    }
   ],
   "source": [
    "task5_m1_good = pd.DataFrame([{\"Article\": row.name, 'mean_edit_timediff': measure_freq(row.name, task5_good)} for index, row in task5_good.iterrows()])\n",
    "task5_m1_good.head()"
   ]
  },
  {
   "cell_type": "code",
   "execution_count": 193,
   "metadata": {},
   "outputs": [
    {
     "data": {
      "text/plain": [
       "array([[<matplotlib.axes._subplots.AxesSubplot object at 0x0000029EF843F7F0>]],\n",
       "      dtype=object)"
      ]
     },
     "execution_count": 193,
     "metadata": {},
     "output_type": "execute_result"
    },
    {
     "data": {
      "image/png": "[encoded data removed]",
      "text/plain": [
       "<Figure size 432x288 with 1 Axes>"
      ]
     },
     "metadata": {},
     "output_type": "display_data"
    }
   ],
   "source": [
    "task5_m1_good.hist(column='mean_edit_timediff')"
   ]
  },
  {
   "cell_type": "code",
   "execution_count": 199,
   "metadata": {},
   "outputs": [
    {
     "data": {
      "text/plain": [
       "<matplotlib.axes._subplots.AxesSubplot at 0x29ef8563cf8>"
      ]
     },
     "execution_count": 199,
     "metadata": {},
     "output_type": "execute_result"
    },
    {
     "data": {
      "image/png": "[encoded data removed]",
      "text/plain": [
       "<Figure size 432x288 with 1 Axes>"
      ]
     },
     "metadata": {},
     "output_type": "display_data"
    }
   ],
   "source": [
    "task5_m1_good.boxplot(column='mean_edit_timediff')"
   ]
  },
  {
   "cell_type": "code",
   "execution_count": 200,
   "metadata": {},
   "outputs": [],
   "source": [
    "## Let's compare with the anther group"
   ]
  },
  {
   "cell_type": "code",
   "execution_count": 216,
   "metadata": {},
   "outputs": [
    {
     "data": {
      "text/plain": [
       "{'whiskers': [<matplotlib.lines.Line2D at 0x29ef8680a58>,\n",
       "  <matplotlib.lines.Line2D at 0x29ef8680ef0>,\n",
       "  <matplotlib.lines.Line2D at 0x29ef8691860>,\n",
       "  <matplotlib.lines.Line2D at 0x29ef8691c88>],\n",
       " 'caps': [<matplotlib.lines.Line2D at 0x29ef8688358>,\n",
       "  <matplotlib.lines.Line2D at 0x29ef8688780>,\n",
       "  <matplotlib.lines.Line2D at 0x29ef86980f0>,\n",
       "  <matplotlib.lines.Line2D at 0x29ef8698518>],\n",
       " 'boxes': [<matplotlib.lines.Line2D at 0x29ef8680908>,\n",
       "  <matplotlib.lines.Line2D at 0x29ef8691400>],\n",
       " 'medians': [<matplotlib.lines.Line2D at 0x29ef8688ba8>,\n",
       "  <matplotlib.lines.Line2D at 0x29ef8698940>],\n",
       " 'fliers': [<matplotlib.lines.Line2D at 0x29ef8688fd0>,\n",
       "  <matplotlib.lines.Line2D at 0x29ef8698d68>],\n",
       " 'means': []}"
      ]
     },
     "execution_count": 216,
     "metadata": {},
     "output_type": "execute_result"
    },
    {
     "data": {
      "image/png": "[encoded data removed]",
      "text/plain": [
       "<Figure size 432x288 with 1 Axes>"
      ]
     },
     "metadata": {},
     "output_type": "display_data"
    }
   ],
   "source": [
    "task5_nsgood = pd.DataFrame(articles_nsgood.groupby('Article').agg('timestamp').unique())\n",
    "task5_m1_nsgood = pd.DataFrame([{\"Article\": row.name, 'mean_edit_timediff': measure_freq(row.name, task5_nsgood)} for index, row in task5_nsgood.iterrows()])\n",
    "plt.boxplot([task5_m1_good['mean_edit_timediff'], task5_m1_nsgood['mean_edit_timediff']])"
   ]
  }
 ],
 "metadata": {
  "kernelspec": {
   "display_name": "Python 3",
   "language": "python",
   "name": "python3"
  },
  "language_info": {
   "codemirror_mode": {
    "name": "ipython",
    "version": 3
   },
   "file_extension": ".py",
   "mimetype": "text/x-python",
   "name": "python",
   "nbconvert_exporter": "python",
   "pygments_lexer": "ipython3",
   "version": "3.6.5"
  }
 },
 "nbformat": 4,
 "nbformat_minor": 2
}
