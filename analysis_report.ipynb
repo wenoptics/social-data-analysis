{
 "cells": [
  {
   "cell_type": "markdown",
   "metadata": {},
   "source": [
    "# Social Data Analysis Report \n",
    "\n",
    "by Guangxue Wen (GUW16)"
   ]
  },
  {
   "cell_type": "markdown",
   "metadata": {},
   "source": [
    "### Credit: \n",
    "\n",
    "I wrote [a python crawler](fetch_data.ipynb) to access Wiki Articles, and I used the data to [explore the data a little bit](analysis_explore.ipynb) before I start this report.\n",
    "\n",
    "Within this notebook, [Ainur's data](https://github.com/abaikara/social_computing_analysis-) is applied. "
   ]
  },
  {
   "cell_type": "code",
   "execution_count": 1,
   "metadata": {},
   "outputs": [],
   "source": [
    "import pandas as pd\n",
    "import matplotlib.pyplot as plt"
   ]
  },
  {
   "cell_type": "code",
   "execution_count": 2,
   "metadata": {},
   "outputs": [],
   "source": [
    "articles_good = pd.read_csv(\"data/ainur/article_good.csv\")\n",
    "articles_nsgood = pd.read_csv(\"data/ainur/article_bad.csv\")"
   ]
  },
  {
   "cell_type": "code",
   "execution_count": 3,
   "metadata": {},
   "outputs": [
    {
     "data": {
      "text/plain": [
       "pandas.core.frame.DataFrame"
      ]
     },
     "execution_count": 3,
     "metadata": {},
     "output_type": "execute_result"
    }
   ],
   "source": [
    "type(articles_good)"
   ]
  },
  {
   "cell_type": "code",
   "execution_count": 4,
   "metadata": {},
   "outputs": [
    {
     "data": {
      "text/html": [
       "<div>\n",
       "<style scoped>\n",
       "    .dataframe tbody tr th:only-of-type {\n",
       "        vertical-align: middle;\n",
       "    }\n",
       "\n",
       "    .dataframe tbody tr th {\n",
       "        vertical-align: top;\n",
       "    }\n",
       "\n",
       "    .dataframe thead th {\n",
       "        text-align: right;\n",
       "    }\n",
       "</style>\n",
       "<table border=\"1\" class=\"dataframe\">\n",
       "  <thead>\n",
       "    <tr style=\"text-align: right;\">\n",
       "      <th></th>\n",
       "      <th>Unnamed: 0</th>\n",
       "      <th>Article</th>\n",
       "      <th>rev_id</th>\n",
       "      <th>page_id</th>\n",
       "      <th>user</th>\n",
       "      <th>timestamp</th>\n",
       "      <th>Quality</th>\n",
       "      <th>article_type</th>\n",
       "    </tr>\n",
       "  </thead>\n",
       "  <tbody>\n",
       "    <tr>\n",
       "      <th>0</th>\n",
       "      <td>0</td>\n",
       "      <td>Parallel computing</td>\n",
       "      <td>869792687</td>\n",
       "      <td>22770</td>\n",
       "      <td>Arjayay</td>\n",
       "      <td>2018-11-20T11:45:46Z</td>\n",
       "      <td>FA</td>\n",
       "      <td>Good</td>\n",
       "    </tr>\n",
       "    <tr>\n",
       "      <th>1</th>\n",
       "      <td>1</td>\n",
       "      <td>Parallel computing</td>\n",
       "      <td>869792656</td>\n",
       "      <td>22770</td>\n",
       "      <td>88.98.30.181</td>\n",
       "      <td>2018-11-20T11:45:28Z</td>\n",
       "      <td>FA</td>\n",
       "      <td>Good</td>\n",
       "    </tr>\n",
       "    <tr>\n",
       "      <th>2</th>\n",
       "      <td>2</td>\n",
       "      <td>Parallel computing</td>\n",
       "      <td>869394838</td>\n",
       "      <td>22770</td>\n",
       "      <td>Daiyusha</td>\n",
       "      <td>2018-11-18T09:20:26Z</td>\n",
       "      <td>FA</td>\n",
       "      <td>Good</td>\n",
       "    </tr>\n",
       "    <tr>\n",
       "      <th>3</th>\n",
       "      <td>3</td>\n",
       "      <td>Parallel computing</td>\n",
       "      <td>869380602</td>\n",
       "      <td>22770</td>\n",
       "      <td>2600:8801:983:7000:21D4:4DD3:80E2:3E60</td>\n",
       "      <td>2018-11-18T06:46:03Z</td>\n",
       "      <td>FA</td>\n",
       "      <td>Good</td>\n",
       "    </tr>\n",
       "    <tr>\n",
       "      <th>4</th>\n",
       "      <td>4</td>\n",
       "      <td>Parallel computing</td>\n",
       "      <td>869210492</td>\n",
       "      <td>22770</td>\n",
       "      <td>Jackfork</td>\n",
       "      <td>2018-11-17T03:18:43Z</td>\n",
       "      <td>FA</td>\n",
       "      <td>Good</td>\n",
       "    </tr>\n",
       "  </tbody>\n",
       "</table>\n",
       "</div>"
      ],
      "text/plain": [
       "   Unnamed: 0             Article     rev_id  page_id  \\\n",
       "0           0  Parallel computing  869792687    22770   \n",
       "1           1  Parallel computing  869792656    22770   \n",
       "2           2  Parallel computing  869394838    22770   \n",
       "3           3  Parallel computing  869380602    22770   \n",
       "4           4  Parallel computing  869210492    22770   \n",
       "\n",
       "                                     user             timestamp Quality  \\\n",
       "0                                 Arjayay  2018-11-20T11:45:46Z      FA   \n",
       "1                            88.98.30.181  2018-11-20T11:45:28Z      FA   \n",
       "2                                Daiyusha  2018-11-18T09:20:26Z      FA   \n",
       "3  2600:8801:983:7000:21D4:4DD3:80E2:3E60  2018-11-18T06:46:03Z      FA   \n",
       "4                                Jackfork  2018-11-17T03:18:43Z      FA   \n",
       "\n",
       "  article_type  \n",
       "0         Good  \n",
       "1         Good  \n",
       "2         Good  \n",
       "3         Good  \n",
       "4         Good  "
      ]
     },
     "execution_count": 4,
     "metadata": {},
     "output_type": "execute_result"
    }
   ],
   "source": [
    "articles_good.head()"
   ]
  },
  {
   "cell_type": "markdown",
   "metadata": {},
   "source": [
    "# Aspect 1: Total number of unique editors"
   ]
  },
  {
   "cell_type": "markdown",
   "metadata": {},
   "source": [
    "### My Hypothesis: \n",
    "\n",
    "**Good** articles have more diverse numbers of unique editors than the **not-so-good** articles"
   ]
  },
  {
   "cell_type": "code",
   "execution_count": 5,
   "metadata": {},
   "outputs": [
    {
     "data": {
      "text/html": [
       "<div>\n",
       "<style scoped>\n",
       "    .dataframe tbody tr th:only-of-type {\n",
       "        vertical-align: middle;\n",
       "    }\n",
       "\n",
       "    .dataframe tbody tr th {\n",
       "        vertical-align: top;\n",
       "    }\n",
       "\n",
       "    .dataframe thead th {\n",
       "        text-align: right;\n",
       "    }\n",
       "</style>\n",
       "<table border=\"1\" class=\"dataframe\">\n",
       "  <thead>\n",
       "    <tr style=\"text-align: right;\">\n",
       "      <th></th>\n",
       "      <th>user</th>\n",
       "    </tr>\n",
       "    <tr>\n",
       "      <th>Article</th>\n",
       "      <th></th>\n",
       "    </tr>\n",
       "  </thead>\n",
       "  <tbody>\n",
       "    <tr>\n",
       "      <th>4chan</th>\n",
       "      <td>[Certes, 2600:8801:983:7000:21D4:4DD3:80E2:3E6...</td>\n",
       "    </tr>\n",
       "    <tr>\n",
       "      <th>AACS encryption key controversy</th>\n",
       "      <td>[2409:4062:209D:1376:A498:A3DA:38DA:55E9, Aoi,...</td>\n",
       "    </tr>\n",
       "    <tr>\n",
       "      <th>AVG PC TuneUp</th>\n",
       "      <td>[Certes, 2405:205:3202:4746:B8B7:A4C9:4E96:F74...</td>\n",
       "    </tr>\n",
       "    <tr>\n",
       "      <th>Acid2</th>\n",
       "      <td>[ClueBot NG, 190.43.57.117, 125.63.26.99, Just...</td>\n",
       "    </tr>\n",
       "    <tr>\n",
       "      <th>Alan Kotok</th>\n",
       "      <td>[Plaba123, 99.85.40.29, Certes, ClueBot NG, Ma...</td>\n",
       "    </tr>\n",
       "  </tbody>\n",
       "</table>\n",
       "</div>"
      ],
      "text/plain": [
       "                                                                              user\n",
       "Article                                                                           \n",
       "4chan                            [Certes, 2600:8801:983:7000:21D4:4DD3:80E2:3E6...\n",
       "AACS encryption key controversy  [2409:4062:209D:1376:A498:A3DA:38DA:55E9, Aoi,...\n",
       "AVG PC TuneUp                    [Certes, 2405:205:3202:4746:B8B7:A4C9:4E96:F74...\n",
       "Acid2                            [ClueBot NG, 190.43.57.117, 125.63.26.99, Just...\n",
       "Alan Kotok                       [Plaba123, 99.85.40.29, Certes, ClueBot NG, Ma..."
      ]
     },
     "execution_count": 5,
     "metadata": {},
     "output_type": "execute_result"
    }
   ],
   "source": [
    "pd.DataFrame(articles_good.groupby('Article').agg('user').unique()).head()"
   ]
  },
  {
   "cell_type": "code",
   "execution_count": 6,
   "metadata": {},
   "outputs": [
    {
     "name": "stdout",
     "output_type": "stream",
     "text": [
      "number of contributors description:\n",
      "Good\t|\tNot-So-Good\n"
     ]
    },
    {
     "data": {
      "text/html": [
       "<div>\n",
       "<style scoped>\n",
       "    .dataframe tbody tr th:only-of-type {\n",
       "        vertical-align: middle;\n",
       "    }\n",
       "\n",
       "    .dataframe tbody tr th {\n",
       "        vertical-align: top;\n",
       "    }\n",
       "\n",
       "    .dataframe thead tr th {\n",
       "        text-align: left;\n",
       "    }\n",
       "</style>\n",
       "<table border=\"1\" class=\"dataframe\">\n",
       "  <thead>\n",
       "    <tr>\n",
       "      <th></th>\n",
       "      <th colspan=\"2\" halign=\"left\">user</th>\n",
       "    </tr>\n",
       "    <tr>\n",
       "      <th></th>\n",
       "      <th>nunique</th>\n",
       "      <th>nunique</th>\n",
       "    </tr>\n",
       "  </thead>\n",
       "  <tbody>\n",
       "    <tr>\n",
       "      <th>count</th>\n",
       "      <td>152.000000</td>\n",
       "      <td>250.000000</td>\n",
       "    </tr>\n",
       "    <tr>\n",
       "      <th>mean</th>\n",
       "      <td>148.223684</td>\n",
       "      <td>93.548000</td>\n",
       "    </tr>\n",
       "    <tr>\n",
       "      <th>std</th>\n",
       "      <td>376.060623</td>\n",
       "      <td>26.368254</td>\n",
       "    </tr>\n",
       "    <tr>\n",
       "      <th>min</th>\n",
       "      <td>4.000000</td>\n",
       "      <td>67.000000</td>\n",
       "    </tr>\n",
       "    <tr>\n",
       "      <th>25%</th>\n",
       "      <td>13.000000</td>\n",
       "      <td>82.000000</td>\n",
       "    </tr>\n",
       "    <tr>\n",
       "      <th>50%</th>\n",
       "      <td>46.000000</td>\n",
       "      <td>90.000000</td>\n",
       "    </tr>\n",
       "    <tr>\n",
       "      <th>75%</th>\n",
       "      <td>99.000000</td>\n",
       "      <td>98.000000</td>\n",
       "    </tr>\n",
       "    <tr>\n",
       "      <th>max</th>\n",
       "      <td>2817.000000</td>\n",
       "      <td>385.000000</td>\n",
       "    </tr>\n",
       "  </tbody>\n",
       "</table>\n",
       "</div>"
      ],
      "text/plain": [
       "              user            \n",
       "           nunique     nunique\n",
       "count   152.000000  250.000000\n",
       "mean    148.223684   93.548000\n",
       "std     376.060623   26.368254\n",
       "min       4.000000   67.000000\n",
       "25%      13.000000   82.000000\n",
       "50%      46.000000   90.000000\n",
       "75%      99.000000   98.000000\n",
       "max    2817.000000  385.000000"
      ]
     },
     "execution_count": 6,
     "metadata": {},
     "output_type": "execute_result"
    }
   ],
   "source": [
    "series_n_contributer = articles_good.groupby('Article').agg({'user': ['nunique']})\n",
    "s_nsgood = articles_nsgood.groupby('Article').agg({'user': ['nunique']})\n",
    "\n",
    "print('number of contributors description:\\nGood\\t|\\tNot-So-Good')\n",
    "pd.concat([series_n_contributer.describe(), s_nsgood.describe()], axis=1)"
   ]
  },
  {
   "cell_type": "markdown",
   "metadata": {},
   "source": [
    "## Find outliners"
   ]
  },
  {
   "cell_type": "markdown",
   "metadata": {},
   "source": [
    "### For Good Articles:"
   ]
  },
  {
   "cell_type": "code",
   "execution_count": 7,
   "metadata": {},
   "outputs": [
    {
     "data": {
      "image/png": "[encoded data removed]",
      "text/plain": [
       "<Figure size 432x288 with 1 Axes>"
      ]
     },
     "metadata": {},
     "output_type": "display_data"
    }
   ],
   "source": [
    "# Check the histogram first... if there's any suspcious stuff\n",
    "_=series_n_contributer.hist(bins=40)"
   ]
  },
  {
   "cell_type": "code",
   "execution_count": 8,
   "metadata": {},
   "outputs": [
    {
     "data": {
      "image/png": "[encoded data removed]",
      "text/plain": [
       "<Figure size 432x288 with 1 Axes>"
      ]
     },
     "metadata": {},
     "output_type": "display_data"
    }
   ],
   "source": [
    "_=series_n_contributer.boxplot(showfliers=False)"
   ]
  },
  {
   "cell_type": "markdown",
   "metadata": {},
   "source": [
    "By looking at the boxplot, we treat n_contributer over 175 as outliners:"
   ]
  },
  {
   "cell_type": "code",
   "execution_count": 9,
   "metadata": {},
   "outputs": [
    {
     "name": "stdout",
     "output_type": "stream",
     "text": [
      "Article\n",
      "Manchester Baby       2817\n",
      "Parallel computing    1824\n",
      "NeXT                  1727\n",
      "Folding@home          1332\n",
      "Delrina               1294\n",
      "Name: unique, dtype: object\n"
     ]
    },
    {
     "data": {
      "text/plain": [
       "count       12\n",
       "unique      12\n",
       "top       1167\n",
       "freq         1\n",
       "Name: unique, dtype: int64"
      ]
     },
     "execution_count": 9,
     "metadata": {},
     "output_type": "execute_result"
    }
   ],
   "source": [
    "task1_good = pd.Series(articles_good.groupby('Article').agg('user').describe()['unique'])\n",
    "outliners = task1_good[ task1_good>175 ]\n",
    "print(outliners.sort_values()[::-1].head())\n",
    "outliners.describe()\n",
    "\n",
    "# articles_good.groupby('Article').agg('user').describe()['unique'].sort_values()[::-1].head(15)"
   ]
  },
  {
   "cell_type": "markdown",
   "metadata": {},
   "source": [
    "### Let's compare with the not-so-good one"
   ]
  },
  {
   "cell_type": "code",
   "execution_count": 10,
   "metadata": {},
   "outputs": [
    {
     "data": {
      "image/png": "[encoded data removed]",
      "text/plain": [
       "<Figure size 432x288 with 1 Axes>"
      ]
     },
     "metadata": {},
     "output_type": "display_data"
    }
   ],
   "source": [
    "_=s_nsgood.boxplot(showfliers=False)"
   ]
  },
  {
   "cell_type": "markdown",
   "metadata": {},
   "source": [
    "By looking at the boxplot, we treat n_contributer of not-so-good articles over 120 as outliners:"
   ]
  },
  {
   "cell_type": "code",
   "execution_count": 11,
   "metadata": {},
   "outputs": [
    {
     "name": "stdout",
     "output_type": "stream",
     "text": [
      "Article\n",
      "Digital signal                 385\n",
      "Natural language processing    244\n",
      "Free software                  188\n",
      "Outline of computing           187\n",
      "Aakash (tablet)                167\n",
      "Name: unique, dtype: object\n"
     ]
    },
    {
     "data": {
      "text/plain": [
       "count       8\n",
       "unique      8\n",
       "top       159\n",
       "freq        1\n",
       "Name: unique, dtype: int64"
      ]
     },
     "execution_count": 11,
     "metadata": {},
     "output_type": "execute_result"
    }
   ],
   "source": [
    "task1_nsgood = pd.Series(articles_nsgood.groupby('Article').agg('user').describe()['unique'])\n",
    "outliners = task1_nsgood[ task1_nsgood>120 ]\n",
    "print(outliners.sort_values()[::-1].head())\n",
    "outliners.describe()"
   ]
  },
  {
   "cell_type": "markdown",
   "metadata": {},
   "source": [
    "## Compare the boxplots together"
   ]
  },
  {
   "cell_type": "code",
   "execution_count": 12,
   "metadata": {},
   "outputs": [
    {
     "data": {
      "image/png": "[encoded data removed]",
      "text/plain": [
       "<Figure size 432x288 with 1 Axes>"
      ]
     },
     "metadata": {},
     "output_type": "display_data"
    }
   ],
   "source": [
    "g = pd.Series(articles_good.groupby('Article').agg('user').describe()['unique'])\n",
    "nsg = pd.Series(articles_nsgood.groupby('Article').agg('user').describe()['unique'])\n",
    "\n",
    "_=plt.boxplot([g, nsg], showfliers=False)"
   ]
  },
  {
   "cell_type": "markdown",
   "metadata": {},
   "source": [
    "## Conclution:"
   ]
  },
  {
   "cell_type": "markdown",
   "metadata": {},
   "source": [
    "The comparison of boxplots across two groups concludes that my hypothesis that \n",
    "`Good articles have more diverse numbers of unique editors than the not-so-good articles` is valid.\n",
    "\n",
    "The outliners of Good article group are `Manchester Baby`, `Parallel computing`, `NeXT` and etc, which are very popular topics,\n",
    "while the Not-So-Good article group are `Digital signal`, `Natural language processing`, `Outline of computing` and etc."
   ]
  },
  {
   "cell_type": "markdown",
   "metadata": {},
   "source": [
    "# Aspect 2: Number of edits per editors"
   ]
  },
  {
   "cell_type": "markdown",
   "metadata": {},
   "source": [
    "## My Hypothesis: \n",
    "\n",
    "**Good** articles have higher numbers of edits per editors than the **not-so-good** articles\n",
    "\n",
    "    The editors comes back frequently to improve the articles and thus makes the article better.\n",
    "    \n"
   ]
  },
  {
   "cell_type": "markdown",
   "metadata": {},
   "source": [
    "## Edits per editor description:"
   ]
  },
  {
   "cell_type": "code",
   "execution_count": 13,
   "metadata": {},
   "outputs": [
    {
     "name": "stdout",
     "output_type": "stream",
     "text": [
      "Edits per editor description:\n",
      "Good\t|\tNot-So-Good\n"
     ]
    },
    {
     "data": {
      "text/html": [
       "<div>\n",
       "<style scoped>\n",
       "    .dataframe tbody tr th:only-of-type {\n",
       "        vertical-align: middle;\n",
       "    }\n",
       "\n",
       "    .dataframe tbody tr th {\n",
       "        vertical-align: top;\n",
       "    }\n",
       "\n",
       "    .dataframe thead th {\n",
       "        text-align: right;\n",
       "    }\n",
       "</style>\n",
       "<table border=\"1\" class=\"dataframe\">\n",
       "  <thead>\n",
       "    <tr style=\"text-align: right;\">\n",
       "      <th></th>\n",
       "      <th>rev_id</th>\n",
       "      <th>rev_id</th>\n",
       "    </tr>\n",
       "  </thead>\n",
       "  <tbody>\n",
       "    <tr>\n",
       "      <th>count</th>\n",
       "      <td>22530.000000</td>\n",
       "      <td>23387.000000</td>\n",
       "    </tr>\n",
       "    <tr>\n",
       "      <th>mean</th>\n",
       "      <td>1.738304</td>\n",
       "      <td>1.807457</td>\n",
       "    </tr>\n",
       "    <tr>\n",
       "      <th>std</th>\n",
       "      <td>3.230359</td>\n",
       "      <td>1.980297</td>\n",
       "    </tr>\n",
       "    <tr>\n",
       "      <th>min</th>\n",
       "      <td>1.000000</td>\n",
       "      <td>1.000000</td>\n",
       "    </tr>\n",
       "    <tr>\n",
       "      <th>25%</th>\n",
       "      <td>1.000000</td>\n",
       "      <td>1.000000</td>\n",
       "    </tr>\n",
       "    <tr>\n",
       "      <th>50%</th>\n",
       "      <td>1.000000</td>\n",
       "      <td>1.000000</td>\n",
       "    </tr>\n",
       "    <tr>\n",
       "      <th>75%</th>\n",
       "      <td>2.000000</td>\n",
       "      <td>2.000000</td>\n",
       "    </tr>\n",
       "    <tr>\n",
       "      <th>max</th>\n",
       "      <td>162.000000</td>\n",
       "      <td>44.000000</td>\n",
       "    </tr>\n",
       "  </tbody>\n",
       "</table>\n",
       "</div>"
      ],
      "text/plain": [
       "             rev_id        rev_id\n",
       "count  22530.000000  23387.000000\n",
       "mean       1.738304      1.807457\n",
       "std        3.230359      1.980297\n",
       "min        1.000000      1.000000\n",
       "25%        1.000000      1.000000\n",
       "50%        1.000000      1.000000\n",
       "75%        2.000000      2.000000\n",
       "max      162.000000     44.000000"
      ]
     },
     "execution_count": 13,
     "metadata": {},
     "output_type": "execute_result"
    }
   ],
   "source": [
    "task2_good = articles_good.groupby(['Article', 'user']).agg('rev_id').count()\n",
    "task2_nsgood = articles_nsgood.groupby(['Article', 'user']).agg('rev_id').count()\n",
    "\n",
    "print('Edits per editor description:\\nGood\\t|\\tNot-So-Good')\n",
    "pd.concat([task2_good.describe(), task2_nsgood.describe()], axis=1)"
   ]
  },
  {
   "cell_type": "markdown",
   "metadata": {},
   "source": [
    "## Find outliners"
   ]
  },
  {
   "cell_type": "markdown",
   "metadata": {},
   "source": [
    "###  • Good Group"
   ]
  },
  {
   "cell_type": "code",
   "execution_count": 14,
   "metadata": {},
   "outputs": [
    {
     "data": {
      "image/png": "[encoded data removed]",
      "text/plain": [
       "<Figure size 432x288 with 1 Axes>"
      ]
     },
     "metadata": {},
     "output_type": "display_data"
    }
   ],
   "source": [
    "_=pd.DataFrame(task2_good).boxplot(showfliers=False)"
   ]
  },
  {
   "cell_type": "code",
   "execution_count": 15,
   "metadata": {},
   "outputs": [
    {
     "data": {
      "image/png": "[encoded data removed]",
      "text/plain": [
       "<Figure size 432x288 with 1 Axes>"
      ]
     },
     "metadata": {},
     "output_type": "display_data"
    }
   ],
   "source": [
    "_=pd.DataFrame(task2_good).hist(bins=25)"
   ]
  },
  {
   "cell_type": "markdown",
   "metadata": {},
   "source": [
    "By looking at the boxplot and the histogram, we treat counts of good articles over `3` as outliners:"
   ]
  },
  {
   "cell_type": "code",
   "execution_count": 16,
   "metadata": {},
   "outputs": [
    {
     "name": "stdout",
     "output_type": "stream",
     "text": [
      "Proportion of outliner 0.07043941411451399\n"
     ]
    },
    {
     "data": {
      "text/plain": [
       "count    1587.000000\n",
       "mean        7.953371\n",
       "std        10.130876\n",
       "min         4.000000\n",
       "25%         4.000000\n",
       "50%         5.000000\n",
       "75%         8.000000\n",
       "max       162.000000\n",
       "Name: rev_id, dtype: float64"
      ]
     },
     "execution_count": 16,
     "metadata": {},
     "output_type": "execute_result"
    }
   ],
   "source": [
    "outliners = task2_good[ task2_good>3 ]\n",
    "print('Proportion of outliner', outliners.count() / task2_good.count())\n",
    "outliners.describe()"
   ]
  },
  {
   "cell_type": "code",
   "execution_count": 17,
   "metadata": {},
   "outputs": [
    {
     "name": "stdout",
     "output_type": "stream",
     "text": [
      "Article                        user        \n",
      "Manchester Baby                Arthur Rubin    162\n",
      "NeXT                           Arthur Rubin    125\n",
      "Microsoft Security Essentials  Arthur Rubin    106\n",
      "Folding@home                   Arthur Rubin    100\n",
      "Manchester Baby                ClueBot NG       94\n",
      "Name: rev_id, dtype: int64\n"
     ]
    },
    {
     "data": {
      "text/plain": [
       "count    1587.000000\n",
       "mean        7.953371\n",
       "std        10.130876\n",
       "min         4.000000\n",
       "25%         4.000000\n",
       "50%         5.000000\n",
       "75%         8.000000\n",
       "max       162.000000\n",
       "Name: rev_id, dtype: float64"
      ]
     },
     "execution_count": 17,
     "metadata": {},
     "output_type": "execute_result"
    }
   ],
   "source": [
    "# What are these outliners in good articles\n",
    "print(outliners.sort_values()[::-1].head())\n",
    "outliners.describe()"
   ]
  },
  {
   "cell_type": "markdown",
   "metadata": {},
   "source": [
    "### • Not-So-Good Group"
   ]
  },
  {
   "cell_type": "code",
   "execution_count": 18,
   "metadata": {},
   "outputs": [
    {
     "data": {
      "image/png": "[encoded data removed]",
      "text/plain": [
       "<Figure size 432x288 with 1 Axes>"
      ]
     },
     "metadata": {},
     "output_type": "display_data"
    }
   ],
   "source": [
    "_=pd.DataFrame(task2_nsgood).boxplot(showfliers=False)"
   ]
  },
  {
   "cell_type": "markdown",
   "metadata": {},
   "source": [
    "By looking at the boxplot and the histogram, we also treat counts of **not-so-good** articles over `3` as outliners:"
   ]
  },
  {
   "cell_type": "code",
   "execution_count": 19,
   "metadata": {},
   "outputs": [
    {
     "name": "stdout",
     "output_type": "stream",
     "text": [
      "Proportion of outliner: 0.08564587163808954\n"
     ]
    },
    {
     "data": {
      "text/plain": [
       "count    2003.00000\n",
       "mean        7.05991\n",
       "std         3.39542\n",
       "min         4.00000\n",
       "25%         4.00000\n",
       "50%         6.00000\n",
       "75%         9.00000\n",
       "max        44.00000\n",
       "Name: rev_id, dtype: float64"
      ]
     },
     "execution_count": 19,
     "metadata": {},
     "output_type": "execute_result"
    }
   ],
   "source": [
    "outliners = task2_nsgood[ task2_nsgood>3 ]\n",
    "print('Proportion of outliner:', outliners.count() / task2_nsgood.count())\n",
    "outliners.describe()"
   ]
  },
  {
   "cell_type": "code",
   "execution_count": 20,
   "metadata": {},
   "outputs": [
    {
     "name": "stdout",
     "output_type": "stream",
     "text": [
      "Article                      user       \n",
      "Digital signal               Ludde23        44\n",
      "Natural language processing  ClueBot NG     38\n",
      "Memory management            Chris_mahan    38\n",
      "Comptometer                  Peters01       23\n",
      "Nomogram                     Peters01       21\n",
      "Name: rev_id, dtype: int64\n"
     ]
    },
    {
     "data": {
      "text/plain": [
       "count    2003.00000\n",
       "mean        7.05991\n",
       "std         3.39542\n",
       "min         4.00000\n",
       "25%         4.00000\n",
       "50%         6.00000\n",
       "75%         9.00000\n",
       "max        44.00000\n",
       "Name: rev_id, dtype: float64"
      ]
     },
     "execution_count": 20,
     "metadata": {},
     "output_type": "execute_result"
    }
   ],
   "source": [
    "# What are these outliners in not-so-good articles, let's see\n",
    "print(outliners.sort_values()[::-1].head())\n",
    "outliners.describe()"
   ]
  },
  {
   "cell_type": "markdown",
   "metadata": {},
   "source": [
    "## Compare the boxplots together"
   ]
  },
  {
   "cell_type": "code",
   "execution_count": 21,
   "metadata": {},
   "outputs": [
    {
     "data": {
      "image/png": "[encoded data removed]",
      "text/plain": [
       "<Figure size 432x288 with 1 Axes>"
      ]
     },
     "metadata": {},
     "output_type": "display_data"
    }
   ],
   "source": [
    "# Boxplot without fliers\n",
    "_=plt.boxplot([task2_good, task2_nsgood], showfliers=False)"
   ]
  },
  {
   "cell_type": "code",
   "execution_count": 22,
   "metadata": {},
   "outputs": [
    {
     "data": {
      "image/png": "[encoded data removed]",
      "text/plain": [
       "<Figure size 432x288 with 1 Axes>"
      ]
     },
     "metadata": {},
     "output_type": "display_data"
    }
   ],
   "source": [
    "# Boxplot with fliers\n",
    "_=plt.boxplot([task2_good, task2_nsgood])"
   ]
  },
  {
   "cell_type": "markdown",
   "metadata": {},
   "source": [
    "## Conclusions:"
   ]
  },
  {
   "cell_type": "markdown",
   "metadata": {},
   "source": [
    "As [the data description of two the groups](#Edits-per-editor-description:) shows, \n",
    "\n",
    " - The mean of the two is quite similar\n",
    " \n",
    " - The standard deviation of `Good` group is slightly larger than the `Not-so-good` group\n",
    " \n",
    "By looking at the boxplots comparison, the two groups have the same distribution in majority (without taking outliners into consideration), but the `Good` group has a larger range of outliners.\n",
    "\n",
    "My hypothesis of \"`Good articles have higher numbers of edits per editors than the not-so-good articles`\" can not be valid. The numbers of edits per editors shows no strong relation to the article qualities."
   ]
  },
  {
   "cell_type": "markdown",
   "metadata": {},
   "source": [
    "# Aspect 3: Number of talk-page posts"
   ]
  },
  {
   "cell_type": "markdown",
   "metadata": {},
   "source": [
    "## My Hypothesis: \n",
    "\n",
    "Number of talk-page posts have no relation to **Good** or **not-so-good** articles\n"
   ]
  },
  {
   "cell_type": "code",
   "execution_count": 23,
   "metadata": {},
   "outputs": [],
   "source": [
    "# Load Talk dataset\n",
    "articlestalk_good = pd.read_csv(\"data/ainur/talk_good.csv\")\n",
    "articlestalk_nsgood = pd.read_csv(\"data/ainur/talk_bad.csv\")"
   ]
  },
  {
   "cell_type": "code",
   "execution_count": 24,
   "metadata": {},
   "outputs": [
    {
     "data": {
      "text/html": [
       "<div>\n",
       "<style scoped>\n",
       "    .dataframe tbody tr th:only-of-type {\n",
       "        vertical-align: middle;\n",
       "    }\n",
       "\n",
       "    .dataframe tbody tr th {\n",
       "        vertical-align: top;\n",
       "    }\n",
       "\n",
       "    .dataframe thead th {\n",
       "        text-align: right;\n",
       "    }\n",
       "</style>\n",
       "<table border=\"1\" class=\"dataframe\">\n",
       "  <thead>\n",
       "    <tr style=\"text-align: right;\">\n",
       "      <th></th>\n",
       "      <th>Unnamed: 0</th>\n",
       "      <th>Article</th>\n",
       "      <th>rev_id</th>\n",
       "      <th>page_id</th>\n",
       "      <th>user</th>\n",
       "      <th>timestamp</th>\n",
       "      <th>Quality</th>\n",
       "      <th>article_type</th>\n",
       "    </tr>\n",
       "  </thead>\n",
       "  <tbody>\n",
       "    <tr>\n",
       "      <th>0</th>\n",
       "      <td>0</td>\n",
       "      <td>Parallel computing</td>\n",
       "      <td>850357480</td>\n",
       "      <td>22173</td>\n",
       "      <td>WOSlinker</td>\n",
       "      <td>2018-07-15T11:19:09Z</td>\n",
       "      <td>FA</td>\n",
       "      <td>Good</td>\n",
       "    </tr>\n",
       "    <tr>\n",
       "      <th>1</th>\n",
       "      <td>1</td>\n",
       "      <td>Parallel computing</td>\n",
       "      <td>844288857</td>\n",
       "      <td>22173</td>\n",
       "      <td>Arthur Rubin (alternate)</td>\n",
       "      <td>2018-06-03T23:33:14Z</td>\n",
       "      <td>FA</td>\n",
       "      <td>Good</td>\n",
       "    </tr>\n",
       "    <tr>\n",
       "      <th>2</th>\n",
       "      <td>2</td>\n",
       "      <td>Parallel computing</td>\n",
       "      <td>807179335</td>\n",
       "      <td>22173</td>\n",
       "      <td>Arkansalty</td>\n",
       "      <td>2017-10-26T11:59:51Z</td>\n",
       "      <td>FA</td>\n",
       "      <td>Good</td>\n",
       "    </tr>\n",
       "    <tr>\n",
       "      <th>3</th>\n",
       "      <td>3</td>\n",
       "      <td>Parallel computing</td>\n",
       "      <td>791405619</td>\n",
       "      <td>22173</td>\n",
       "      <td>JFG</td>\n",
       "      <td>2017-07-20T01:58:52Z</td>\n",
       "      <td>FA</td>\n",
       "      <td>Good</td>\n",
       "    </tr>\n",
       "    <tr>\n",
       "      <th>4</th>\n",
       "      <td>4</td>\n",
       "      <td>Parallel computing</td>\n",
       "      <td>791405528</td>\n",
       "      <td>22173</td>\n",
       "      <td>JFG</td>\n",
       "      <td>2017-07-20T01:58:00Z</td>\n",
       "      <td>FA</td>\n",
       "      <td>Good</td>\n",
       "    </tr>\n",
       "  </tbody>\n",
       "</table>\n",
       "</div>"
      ],
      "text/plain": [
       "   Unnamed: 0             Article     rev_id  page_id  \\\n",
       "0           0  Parallel computing  850357480    22173   \n",
       "1           1  Parallel computing  844288857    22173   \n",
       "2           2  Parallel computing  807179335    22173   \n",
       "3           3  Parallel computing  791405619    22173   \n",
       "4           4  Parallel computing  791405528    22173   \n",
       "\n",
       "                       user             timestamp Quality article_type  \n",
       "0                 WOSlinker  2018-07-15T11:19:09Z      FA         Good  \n",
       "1  Arthur Rubin (alternate)  2018-06-03T23:33:14Z      FA         Good  \n",
       "2                Arkansalty  2017-10-26T11:59:51Z      FA         Good  \n",
       "3                       JFG  2017-07-20T01:58:52Z      FA         Good  \n",
       "4                       JFG  2017-07-20T01:58:00Z      FA         Good  "
      ]
     },
     "execution_count": 24,
     "metadata": {},
     "output_type": "execute_result"
    }
   ],
   "source": [
    "articlestalk_good.head()"
   ]
  },
  {
   "cell_type": "code",
   "execution_count": 25,
   "metadata": {},
   "outputs": [
    {
     "name": "stdout",
     "output_type": "stream",
     "text": [
      "Number of talk-page posts description:\n",
      "Good\t|\tNot-So-Good\n"
     ]
    },
    {
     "data": {
      "text/html": [
       "<div>\n",
       "<style scoped>\n",
       "    .dataframe tbody tr th:only-of-type {\n",
       "        vertical-align: middle;\n",
       "    }\n",
       "\n",
       "    .dataframe tbody tr th {\n",
       "        vertical-align: top;\n",
       "    }\n",
       "\n",
       "    .dataframe thead th {\n",
       "        text-align: right;\n",
       "    }\n",
       "</style>\n",
       "<table border=\"1\" class=\"dataframe\">\n",
       "  <thead>\n",
       "    <tr style=\"text-align: right;\">\n",
       "      <th></th>\n",
       "      <th>page_id</th>\n",
       "      <th>page_id</th>\n",
       "    </tr>\n",
       "  </thead>\n",
       "  <tbody>\n",
       "    <tr>\n",
       "      <th>count</th>\n",
       "      <td>152.000000</td>\n",
       "      <td>250.000000</td>\n",
       "    </tr>\n",
       "    <tr>\n",
       "      <th>mean</th>\n",
       "      <td>10.769737</td>\n",
       "      <td>2.860000</td>\n",
       "    </tr>\n",
       "    <tr>\n",
       "      <th>std</th>\n",
       "      <td>35.204318</td>\n",
       "      <td>2.976548</td>\n",
       "    </tr>\n",
       "    <tr>\n",
       "      <th>min</th>\n",
       "      <td>2.000000</td>\n",
       "      <td>1.000000</td>\n",
       "    </tr>\n",
       "    <tr>\n",
       "      <th>25%</th>\n",
       "      <td>2.000000</td>\n",
       "      <td>2.000000</td>\n",
       "    </tr>\n",
       "    <tr>\n",
       "      <th>50%</th>\n",
       "      <td>2.000000</td>\n",
       "      <td>2.000000</td>\n",
       "    </tr>\n",
       "    <tr>\n",
       "      <th>75%</th>\n",
       "      <td>3.000000</td>\n",
       "      <td>3.000000</td>\n",
       "    </tr>\n",
       "    <tr>\n",
       "      <th>max</th>\n",
       "      <td>265.000000</td>\n",
       "      <td>36.000000</td>\n",
       "    </tr>\n",
       "  </tbody>\n",
       "</table>\n",
       "</div>"
      ],
      "text/plain": [
       "          page_id     page_id\n",
       "count  152.000000  250.000000\n",
       "mean    10.769737    2.860000\n",
       "std     35.204318    2.976548\n",
       "min      2.000000    1.000000\n",
       "25%      2.000000    2.000000\n",
       "50%      2.000000    2.000000\n",
       "75%      3.000000    3.000000\n",
       "max    265.000000   36.000000"
      ]
     },
     "execution_count": 25,
     "metadata": {},
     "output_type": "execute_result"
    }
   ],
   "source": [
    "task3_good = articlestalk_good.groupby('Article').agg('page_id').count()\n",
    "task3_nsgood = articlestalk_nsgood.groupby('Article').agg('page_id').count()\n",
    "\n",
    "print('Number of talk-page posts description:\\nGood\\t|\\tNot-So-Good')\n",
    "pd.concat([task3_good.describe(), task3_nsgood.describe()], axis=1)"
   ]
  },
  {
   "cell_type": "markdown",
   "metadata": {},
   "source": [
    "## Outliners\n",
    "\n",
    "### Group Good"
   ]
  },
  {
   "cell_type": "code",
   "execution_count": 26,
   "metadata": {},
   "outputs": [
    {
     "data": {
      "image/png": "[encoded data removed]",
      "text/plain": [
       "<Figure size 432x288 with 1 Axes>"
      ]
     },
     "metadata": {},
     "output_type": "display_data"
    }
   ],
   "source": [
    "_=pd.DataFrame(task3_good).boxplot(showfliers=False)"
   ]
  },
  {
   "cell_type": "code",
   "execution_count": 27,
   "metadata": {},
   "outputs": [
    {
     "name": "stdout",
     "output_type": "stream",
     "text": [
      "Proportion of outliner: 0.19078947368421054\n"
     ]
    },
    {
     "data": {
      "text/plain": [
       "count     29.000000\n",
       "mean      46.586207\n",
       "std       70.994224\n",
       "min        5.000000\n",
       "25%        6.000000\n",
       "50%        8.000000\n",
       "75%       63.000000\n",
       "max      265.000000\n",
       "Name: page_id, dtype: float64"
      ]
     },
     "execution_count": 27,
     "metadata": {},
     "output_type": "execute_result"
    }
   ],
   "source": [
    "# We treat n>4 as outliners:\n",
    "\n",
    "outliners = task3_good[ task3_good>4 ]\n",
    "print('Proportion of outliner:', outliners.count() / task3_good.count())\n",
    "outliners.describe()"
   ]
  },
  {
   "cell_type": "code",
   "execution_count": 28,
   "metadata": {},
   "outputs": [
    {
     "data": {
      "text/plain": [
       "Article\n",
       "Parallel computing    265\n",
       "Manchester Baby       227\n",
       "NeXT                  197\n",
       "Manchester Mark 1     124\n",
       "Delrina                90\n",
       "Name: page_id, dtype: int64"
      ]
     },
     "execution_count": 28,
     "metadata": {},
     "output_type": "execute_result"
    }
   ],
   "source": [
    "# What are these outliners in good articles\n",
    "outliners.sort_values()[::-1].head()"
   ]
  },
  {
   "cell_type": "markdown",
   "metadata": {},
   "source": [
    "### Group not-so-good"
   ]
  },
  {
   "cell_type": "code",
   "execution_count": 29,
   "metadata": {},
   "outputs": [
    {
     "data": {
      "image/png": "[encoded data removed]",
      "text/plain": [
       "<Figure size 432x288 with 1 Axes>"
      ]
     },
     "metadata": {},
     "output_type": "display_data"
    }
   ],
   "source": [
    "_=pd.DataFrame(task3_nsgood).boxplot(showfliers=False)"
   ]
  },
  {
   "cell_type": "code",
   "execution_count": 30,
   "metadata": {},
   "outputs": [
    {
     "name": "stdout",
     "output_type": "stream",
     "text": [
      "Proportion of outliner: 0.112\n"
     ]
    },
    {
     "data": {
      "text/plain": [
       "count    28.000000\n",
       "mean      8.428571\n",
       "std       6.414270\n",
       "min       5.000000\n",
       "25%       5.000000\n",
       "50%       6.000000\n",
       "75%       8.000000\n",
       "max      36.000000\n",
       "Name: page_id, dtype: float64"
      ]
     },
     "execution_count": 30,
     "metadata": {},
     "output_type": "execute_result"
    }
   ],
   "source": [
    "# We also treat n>4 as outliners of group not-so-good articles:\n",
    "\n",
    "outliners = task3_nsgood[ task3_nsgood>4 ]\n",
    "print('Proportion of outliner:', outliners.count() / task3_nsgood.count())\n",
    "outliners.describe()"
   ]
  },
  {
   "cell_type": "code",
   "execution_count": 31,
   "metadata": {},
   "outputs": [
    {
     "data": {
      "text/plain": [
       "Article\n",
       "Digital signal                 36\n",
       "Free software                  18\n",
       "Cut, copy, and paste           14\n",
       "User interface                 13\n",
       "Natural language processing    13\n",
       "Name: page_id, dtype: int64"
      ]
     },
     "execution_count": 31,
     "metadata": {},
     "output_type": "execute_result"
    }
   ],
   "source": [
    "# What are these outliners in not-so-good articles\n",
    "outliners.sort_values()[::-1].head()"
   ]
  },
  {
   "cell_type": "markdown",
   "metadata": {},
   "source": [
    "## Compare the boxplots together"
   ]
  },
  {
   "cell_type": "code",
   "execution_count": 32,
   "metadata": {},
   "outputs": [
    {
     "data": {
      "image/png": "[encoded data removed]",
      "text/plain": [
       "<Figure size 432x288 with 1 Axes>"
      ]
     },
     "metadata": {},
     "output_type": "display_data"
    }
   ],
   "source": [
    "_=plt.boxplot([task3_good, task3_nsgood], showfliers=False)"
   ]
  },
  {
   "cell_type": "code",
   "execution_count": 33,
   "metadata": {},
   "outputs": [
    {
     "data": {
      "image/png": "[encoded data removed]",
      "text/plain": [
       "<Figure size 432x288 with 1 Axes>"
      ]
     },
     "metadata": {},
     "output_type": "display_data"
    }
   ],
   "source": [
    "_=plt.boxplot([task3_good, task3_nsgood], showfliers=True)"
   ]
  },
  {
   "cell_type": "markdown",
   "metadata": {},
   "source": [
    "## Conclusion:\n",
    "\n",
    "Group of `good` article actually have more posts than the other group, which invalids my original hypothesis that \n",
    "`Number of talk-page posts have no relation to Good or not-so-good articles`.\n",
    "\n",
    "The outliners of both groups are articles in popular topics (e.g. \"Parallel computing\", \"Manchester Baby\" and \"Digital signal\")."
   ]
  },
  {
   "cell_type": "markdown",
   "metadata": {},
   "source": [
    "# Aspect 4: Number of editors posting on talk-pages"
   ]
  },
  {
   "cell_type": "markdown",
   "metadata": {},
   "source": [
    "## My Hypothesis: \n",
    "\n",
    "**Good** articles have more editors posting on talk-pages than the **not-so-good** group articles\n"
   ]
  },
  {
   "cell_type": "markdown",
   "metadata": {},
   "source": [
    "### Number of editors posting on talk-pages description:"
   ]
  },
  {
   "cell_type": "code",
   "execution_count": 34,
   "metadata": {},
   "outputs": [
    {
     "name": "stdout",
     "output_type": "stream",
     "text": [
      "Number of editors posting on talk-pages description:\n",
      "Good\t|\tNot-So-Good\n"
     ]
    },
    {
     "data": {
      "text/html": [
       "<div>\n",
       "<style scoped>\n",
       "    .dataframe tbody tr th:only-of-type {\n",
       "        vertical-align: middle;\n",
       "    }\n",
       "\n",
       "    .dataframe tbody tr th {\n",
       "        vertical-align: top;\n",
       "    }\n",
       "\n",
       "    .dataframe thead tr th {\n",
       "        text-align: left;\n",
       "    }\n",
       "</style>\n",
       "<table border=\"1\" class=\"dataframe\">\n",
       "  <thead>\n",
       "    <tr>\n",
       "      <th></th>\n",
       "      <th colspan=\"2\" halign=\"left\">user</th>\n",
       "    </tr>\n",
       "    <tr>\n",
       "      <th></th>\n",
       "      <th>nunique</th>\n",
       "      <th>nunique</th>\n",
       "    </tr>\n",
       "  </thead>\n",
       "  <tbody>\n",
       "    <tr>\n",
       "      <th>count</th>\n",
       "      <td>152.000000</td>\n",
       "      <td>250.000000</td>\n",
       "    </tr>\n",
       "    <tr>\n",
       "      <th>mean</th>\n",
       "      <td>7.197368</td>\n",
       "      <td>2.600000</td>\n",
       "    </tr>\n",
       "    <tr>\n",
       "      <th>std</th>\n",
       "      <td>18.333207</td>\n",
       "      <td>1.825742</td>\n",
       "    </tr>\n",
       "    <tr>\n",
       "      <th>min</th>\n",
       "      <td>2.000000</td>\n",
       "      <td>1.000000</td>\n",
       "    </tr>\n",
       "    <tr>\n",
       "      <th>25%</th>\n",
       "      <td>2.000000</td>\n",
       "      <td>2.000000</td>\n",
       "    </tr>\n",
       "    <tr>\n",
       "      <th>50%</th>\n",
       "      <td>2.000000</td>\n",
       "      <td>2.000000</td>\n",
       "    </tr>\n",
       "    <tr>\n",
       "      <th>75%</th>\n",
       "      <td>3.000000</td>\n",
       "      <td>3.000000</td>\n",
       "    </tr>\n",
       "    <tr>\n",
       "      <th>max</th>\n",
       "      <td>128.000000</td>\n",
       "      <td>19.000000</td>\n",
       "    </tr>\n",
       "  </tbody>\n",
       "</table>\n",
       "</div>"
      ],
      "text/plain": [
       "             user            \n",
       "          nunique     nunique\n",
       "count  152.000000  250.000000\n",
       "mean     7.197368    2.600000\n",
       "std     18.333207    1.825742\n",
       "min      2.000000    1.000000\n",
       "25%      2.000000    2.000000\n",
       "50%      2.000000    2.000000\n",
       "75%      3.000000    3.000000\n",
       "max    128.000000   19.000000"
      ]
     },
     "execution_count": 34,
     "metadata": {},
     "output_type": "execute_result"
    }
   ],
   "source": [
    "task4_good = articlestalk_good.groupby(['Article']).agg({'user': ['nunique']})\n",
    "task4_nsgood = articlestalk_nsgood.groupby(['Article']).agg({'user': ['nunique']})\n",
    "\n",
    "print('Number of editors posting on talk-pages description:\\nGood\\t|\\tNot-So-Good')\n",
    "pd.concat([task4_good.describe(), task4_nsgood.describe()], axis=1)"
   ]
  },
  {
   "cell_type": "markdown",
   "metadata": {},
   "source": [
    "## Outliners\n",
    "\n",
    "### Group Good"
   ]
  },
  {
   "cell_type": "code",
   "execution_count": 35,
   "metadata": {},
   "outputs": [
    {
     "data": {
      "image/png": "[encoded data removed]",
      "text/plain": [
       "<Figure size 432x288 with 1 Axes>"
      ]
     },
     "metadata": {},
     "output_type": "display_data"
    }
   ],
   "source": [
    "_=pd.DataFrame(task4_good).boxplot(showfliers=False)"
   ]
  },
  {
   "cell_type": "code",
   "execution_count": 36,
   "metadata": {},
   "outputs": [
    {
     "name": "stdout",
     "output_type": "stream",
     "text": [
      "Proportion of outliner: user  nunique    0.184211\n",
      "dtype: float64\n"
     ]
    },
    {
     "data": {
      "text/html": [
       "<div>\n",
       "<style scoped>\n",
       "    .dataframe tbody tr th:only-of-type {\n",
       "        vertical-align: middle;\n",
       "    }\n",
       "\n",
       "    .dataframe tbody tr th {\n",
       "        vertical-align: top;\n",
       "    }\n",
       "\n",
       "    .dataframe thead tr th {\n",
       "        text-align: left;\n",
       "    }\n",
       "</style>\n",
       "<table border=\"1\" class=\"dataframe\">\n",
       "  <thead>\n",
       "    <tr>\n",
       "      <th></th>\n",
       "      <th>user</th>\n",
       "    </tr>\n",
       "    <tr>\n",
       "      <th></th>\n",
       "      <th>nunique</th>\n",
       "    </tr>\n",
       "  </thead>\n",
       "  <tbody>\n",
       "    <tr>\n",
       "      <th>count</th>\n",
       "      <td>28.000000</td>\n",
       "    </tr>\n",
       "    <tr>\n",
       "      <th>mean</th>\n",
       "      <td>28.821429</td>\n",
       "    </tr>\n",
       "    <tr>\n",
       "      <th>std</th>\n",
       "      <td>35.830934</td>\n",
       "    </tr>\n",
       "    <tr>\n",
       "      <th>min</th>\n",
       "      <td>5.000000</td>\n",
       "    </tr>\n",
       "    <tr>\n",
       "      <th>25%</th>\n",
       "      <td>6.000000</td>\n",
       "    </tr>\n",
       "    <tr>\n",
       "      <th>50%</th>\n",
       "      <td>8.500000</td>\n",
       "    </tr>\n",
       "    <tr>\n",
       "      <th>75%</th>\n",
       "      <td>44.500000</td>\n",
       "    </tr>\n",
       "    <tr>\n",
       "      <th>max</th>\n",
       "      <td>128.000000</td>\n",
       "    </tr>\n",
       "  </tbody>\n",
       "</table>\n",
       "</div>"
      ],
      "text/plain": [
       "             user\n",
       "          nunique\n",
       "count   28.000000\n",
       "mean    28.821429\n",
       "std     35.830934\n",
       "min      5.000000\n",
       "25%      6.000000\n",
       "50%      8.500000\n",
       "75%     44.500000\n",
       "max    128.000000"
      ]
     },
     "execution_count": 36,
     "metadata": {},
     "output_type": "execute_result"
    }
   ],
   "source": [
    "# We treat n>4 as outliners:\n",
    "\n",
    "outliners = task4_good[ task4_good>4 ]\n",
    "print('Proportion of outliner:', outliners.count() / task4_good.count())\n",
    "outliners.describe()"
   ]
  },
  {
   "cell_type": "code",
   "execution_count": 37,
   "metadata": {},
   "outputs": [
    {
     "data": {
      "text/plain": [
       "Article\n",
       "Parallel computing    128\n",
       "Manchester Baby       111\n",
       "NeXT                  100\n",
       "Manchester Mark 1      77\n",
       "Delrina                58\n",
       "Name: unique, dtype: object"
      ]
     },
     "execution_count": 37,
     "metadata": {},
     "output_type": "execute_result"
    }
   ],
   "source": [
    "# What are these outliners in good articles\n",
    "task4_m1_good = pd.Series(articlestalk_good.groupby('Article').agg('user').describe()['unique'])\n",
    "task4_m1_good[task4_m1_good>4].sort_values()[::-1].head()"
   ]
  },
  {
   "cell_type": "markdown",
   "metadata": {},
   "source": [
    "### Group Not-So-Good"
   ]
  },
  {
   "cell_type": "code",
   "execution_count": 38,
   "metadata": {},
   "outputs": [
    {
     "data": {
      "image/png": "[encoded data removed]",
      "text/plain": [
       "<Figure size 432x288 with 1 Axes>"
      ]
     },
     "metadata": {},
     "output_type": "display_data"
    }
   ],
   "source": [
    "_=pd.DataFrame(task4_nsgood).boxplot(showfliers=False)"
   ]
  },
  {
   "cell_type": "code",
   "execution_count": 39,
   "metadata": {},
   "outputs": [
    {
     "name": "stdout",
     "output_type": "stream",
     "text": [
      "Proportion of outliner: user  nunique    0.08\n",
      "dtype: float64\n"
     ]
    },
    {
     "data": {
      "text/html": [
       "<div>\n",
       "<style scoped>\n",
       "    .dataframe tbody tr th:only-of-type {\n",
       "        vertical-align: middle;\n",
       "    }\n",
       "\n",
       "    .dataframe tbody tr th {\n",
       "        vertical-align: top;\n",
       "    }\n",
       "\n",
       "    .dataframe thead tr th {\n",
       "        text-align: left;\n",
       "    }\n",
       "</style>\n",
       "<table border=\"1\" class=\"dataframe\">\n",
       "  <thead>\n",
       "    <tr>\n",
       "      <th></th>\n",
       "      <th>user</th>\n",
       "    </tr>\n",
       "    <tr>\n",
       "      <th></th>\n",
       "      <th>nunique</th>\n",
       "    </tr>\n",
       "  </thead>\n",
       "  <tbody>\n",
       "    <tr>\n",
       "      <th>count</th>\n",
       "      <td>20.000000</td>\n",
       "    </tr>\n",
       "    <tr>\n",
       "      <th>mean</th>\n",
       "      <td>7.150000</td>\n",
       "    </tr>\n",
       "    <tr>\n",
       "      <th>std</th>\n",
       "      <td>3.587625</td>\n",
       "    </tr>\n",
       "    <tr>\n",
       "      <th>min</th>\n",
       "      <td>5.000000</td>\n",
       "    </tr>\n",
       "    <tr>\n",
       "      <th>25%</th>\n",
       "      <td>5.000000</td>\n",
       "    </tr>\n",
       "    <tr>\n",
       "      <th>50%</th>\n",
       "      <td>5.500000</td>\n",
       "    </tr>\n",
       "    <tr>\n",
       "      <th>75%</th>\n",
       "      <td>7.000000</td>\n",
       "    </tr>\n",
       "    <tr>\n",
       "      <th>max</th>\n",
       "      <td>19.000000</td>\n",
       "    </tr>\n",
       "  </tbody>\n",
       "</table>\n",
       "</div>"
      ],
      "text/plain": [
       "            user\n",
       "         nunique\n",
       "count  20.000000\n",
       "mean    7.150000\n",
       "std     3.587625\n",
       "min     5.000000\n",
       "25%     5.000000\n",
       "50%     5.500000\n",
       "75%     7.000000\n",
       "max    19.000000"
      ]
     },
     "execution_count": 39,
     "metadata": {},
     "output_type": "execute_result"
    }
   ],
   "source": [
    "# We also treat n>4 as outliners:\n",
    "\n",
    "outliners = task4_nsgood[ task4_nsgood>4 ]\n",
    "print('Proportion of outliner:', outliners.count() / task4_nsgood.count())\n",
    "outliners.describe()"
   ]
  },
  {
   "cell_type": "code",
   "execution_count": 40,
   "metadata": {},
   "outputs": [
    {
     "data": {
      "text/plain": [
       "Article\n",
       "Digital signal          19\n",
       "Free software           12\n",
       "Cut, copy, and paste    12\n",
       "Flynn's taxonomy        10\n",
       "Cybercrime               7\n",
       "Name: unique, dtype: object"
      ]
     },
     "execution_count": 40,
     "metadata": {},
     "output_type": "execute_result"
    }
   ],
   "source": [
    "# What are these outliners in good articles\n",
    "task4_m1_nsgood = pd.Series(articlestalk_nsgood.groupby('Article').agg('user').describe()['unique'])\n",
    "task4_m1_nsgood[task4_m1_nsgood>4].sort_values()[::-1].head()"
   ]
  },
  {
   "cell_type": "markdown",
   "metadata": {},
   "source": [
    "## Compare boxplots"
   ]
  },
  {
   "cell_type": "code",
   "execution_count": 41,
   "metadata": {},
   "outputs": [
    {
     "data": {
      "image/png": "[encoded data removed]",
      "text/plain": [
       "<Figure size 432x288 with 1 Axes>"
      ]
     },
     "metadata": {},
     "output_type": "display_data"
    }
   ],
   "source": [
    "_=plt.boxplot([task4_m1_good, task4_m1_nsgood], showfliers=False)"
   ]
  },
  {
   "cell_type": "code",
   "execution_count": 42,
   "metadata": {},
   "outputs": [
    {
     "data": {
      "image/png": "[encoded data removed]",
      "text/plain": [
       "<Figure size 432x288 with 1 Axes>"
      ]
     },
     "metadata": {},
     "output_type": "display_data"
    }
   ],
   "source": [
    "_=plt.boxplot([task4_m1_good, task4_m1_nsgood], showfliers=True)"
   ]
  },
  {
   "cell_type": "markdown",
   "metadata": {},
   "source": [
    "## Conclusions:"
   ]
  },
  {
   "cell_type": "markdown",
   "metadata": {},
   "source": [
    "Group of good article have more number of editors posting on talk-pages than the other group, which proves my original hypothesis that \n",
    "`Good articles have more editors posting on talk-pages than the not-so-good group articles`.\n",
    "\n",
    "The result is quite similar to the [Aspect 4](#Aspect-4:-Number-of-editors-posting-on-talk-pages)\n",
    "\n",
    "The outliners are also similar to the [Aspect 4](#Aspect-4:-Number-of-editors-posting-on-talk-pages), \n",
    "    that in both groups, outliners are articles in popular topics."
   ]
  },
  {
   "cell_type": "markdown",
   "metadata": {},
   "source": [
    "# Aspect 5: Frequency of edits (time between edits)"
   ]
  },
  {
   "cell_type": "markdown",
   "metadata": {},
   "source": [
    "## My Hypothesis: \n",
    "\n",
    "**Good** articles have lower frequency of edits than the **not-so-good** articles"
   ]
  },
  {
   "cell_type": "markdown",
   "metadata": {},
   "source": [
    "## Pre-processing of the timestamp data"
   ]
  },
  {
   "cell_type": "code",
   "execution_count": 43,
   "metadata": {},
   "outputs": [
    {
     "data": {
      "text/html": [
       "<div>\n",
       "<style scoped>\n",
       "    .dataframe tbody tr th:only-of-type {\n",
       "        vertical-align: middle;\n",
       "    }\n",
       "\n",
       "    .dataframe tbody tr th {\n",
       "        vertical-align: top;\n",
       "    }\n",
       "\n",
       "    .dataframe thead th {\n",
       "        text-align: right;\n",
       "    }\n",
       "</style>\n",
       "<table border=\"1\" class=\"dataframe\">\n",
       "  <thead>\n",
       "    <tr style=\"text-align: right;\">\n",
       "      <th></th>\n",
       "      <th>timestamp</th>\n",
       "    </tr>\n",
       "    <tr>\n",
       "      <th>Article</th>\n",
       "      <th></th>\n",
       "    </tr>\n",
       "  </thead>\n",
       "  <tbody>\n",
       "    <tr>\n",
       "      <th>4chan</th>\n",
       "      <td>[2018-11-18T11:21:12Z, 2018-11-18T06:09:03Z, 2...</td>\n",
       "    </tr>\n",
       "    <tr>\n",
       "      <th>AACS encryption key controversy</th>\n",
       "      <td>[2018-06-24T18:20:28Z, 2018-04-16T22:03:13Z, 2...</td>\n",
       "    </tr>\n",
       "    <tr>\n",
       "      <th>AVG PC TuneUp</th>\n",
       "      <td>[2017-11-10T11:47:34Z, 2017-11-10T10:01:50Z, 2...</td>\n",
       "    </tr>\n",
       "    <tr>\n",
       "      <th>Acid2</th>\n",
       "      <td>[2018-11-14T21:54:02Z, 2018-11-14T21:54:00Z, 2...</td>\n",
       "    </tr>\n",
       "    <tr>\n",
       "      <th>Alan Kotok</th>\n",
       "      <td>[2018-10-20T02:26:38Z, 2018-10-20T02:26:28Z, 2...</td>\n",
       "    </tr>\n",
       "  </tbody>\n",
       "</table>\n",
       "</div>"
      ],
      "text/plain": [
       "                                                                         timestamp\n",
       "Article                                                                           \n",
       "4chan                            [2018-11-18T11:21:12Z, 2018-11-18T06:09:03Z, 2...\n",
       "AACS encryption key controversy  [2018-06-24T18:20:28Z, 2018-04-16T22:03:13Z, 2...\n",
       "AVG PC TuneUp                    [2017-11-10T11:47:34Z, 2017-11-10T10:01:50Z, 2...\n",
       "Acid2                            [2018-11-14T21:54:02Z, 2018-11-14T21:54:00Z, 2...\n",
       "Alan Kotok                       [2018-10-20T02:26:38Z, 2018-10-20T02:26:28Z, 2..."
      ]
     },
     "execution_count": 43,
     "metadata": {},
     "output_type": "execute_result"
    }
   ],
   "source": [
    "task5_good = pd.DataFrame(articles_good.groupby('Article').agg('timestamp').unique())\n",
    "task5_good_m = articles_good.groupby('Article').agg({'user': ['nunique']})\n",
    "task5_good.head()"
   ]
  },
  {
   "cell_type": "code",
   "execution_count": 44,
   "metadata": {},
   "outputs": [
    {
     "data": {
      "text/plain": [
       "Timedelta('2 days 20:06:20.697937')"
      ]
     },
     "execution_count": 44,
     "metadata": {},
     "output_type": "execute_result"
    }
   ],
   "source": [
    "one_article = task5_good.loc['4chan']\n",
    "one_article.loc['timestamp']\n",
    "time_series = pd.Series([pd.Timestamp(i) for i in one_article.loc['timestamp']])\n",
    "time_series = time_series.sort_values()\n",
    "time_series.diff().mean()"
   ]
  },
  {
   "cell_type": "code",
   "execution_count": 45,
   "metadata": {},
   "outputs": [
    {
     "name": "stdout",
     "output_type": "stream",
     "text": [
      "timestamp    [2018-11-18T11:21:12Z, 2018-11-18T06:09:03Z, 2...\n",
      "Name: 4chan, dtype: object\n",
      "4chan\n"
     ]
    }
   ],
   "source": [
    "for index, row in task5_good.iterrows():\n",
    "    print(row)\n",
    "    print(row.name)\n",
    "    break"
   ]
  },
  {
   "cell_type": "markdown",
   "metadata": {},
   "source": [
    "### Measurement that apply to each article"
   ]
  },
  {
   "cell_type": "code",
   "execution_count": 46,
   "metadata": {},
   "outputs": [],
   "source": [
    "def measure_freq(article_name, df):\n",
    "    one_article = df.loc[article_name]\n",
    "    one_article.loc['timestamp']\n",
    "    time_series = pd.Series([pd.Timestamp(i) for i in one_article.loc['timestamp']])\n",
    "    time_series = time_series.sort_values()\n",
    "    # time_series.diff().describe()\n",
    "    return time_series.diff().astype('timedelta64[s]').mean()"
   ]
  },
  {
   "cell_type": "code",
   "execution_count": 47,
   "metadata": {},
   "outputs": [
    {
     "data": {
      "text/html": [
       "<div>\n",
       "<style scoped>\n",
       "    .dataframe tbody tr th:only-of-type {\n",
       "        vertical-align: middle;\n",
       "    }\n",
       "\n",
       "    .dataframe tbody tr th {\n",
       "        vertical-align: top;\n",
       "    }\n",
       "\n",
       "    .dataframe thead th {\n",
       "        text-align: right;\n",
       "    }\n",
       "</style>\n",
       "<table border=\"1\" class=\"dataframe\">\n",
       "  <thead>\n",
       "    <tr style=\"text-align: right;\">\n",
       "      <th></th>\n",
       "      <th>Article</th>\n",
       "      <th>mean_edit_timediff</th>\n",
       "    </tr>\n",
       "  </thead>\n",
       "  <tbody>\n",
       "    <tr>\n",
       "      <th>0</th>\n",
       "      <td>4chan</td>\n",
       "      <td>2.451807e+05</td>\n",
       "    </tr>\n",
       "    <tr>\n",
       "      <th>1</th>\n",
       "      <td>AACS encryption key controversy</td>\n",
       "      <td>1.895115e+07</td>\n",
       "    </tr>\n",
       "    <tr>\n",
       "      <th>2</th>\n",
       "      <td>AVG PC TuneUp</td>\n",
       "      <td>6.864113e+06</td>\n",
       "    </tr>\n",
       "    <tr>\n",
       "      <th>3</th>\n",
       "      <td>Acid2</td>\n",
       "      <td>3.684713e+05</td>\n",
       "    </tr>\n",
       "    <tr>\n",
       "      <th>4</th>\n",
       "      <td>Alan Kotok</td>\n",
       "      <td>5.924646e+06</td>\n",
       "    </tr>\n",
       "  </tbody>\n",
       "</table>\n",
       "</div>"
      ],
      "text/plain": [
       "                           Article  mean_edit_timediff\n",
       "0                            4chan        2.451807e+05\n",
       "1  AACS encryption key controversy        1.895115e+07\n",
       "2                    AVG PC TuneUp        6.864113e+06\n",
       "3                            Acid2        3.684713e+05\n",
       "4                       Alan Kotok        5.924646e+06"
      ]
     },
     "execution_count": 47,
     "metadata": {},
     "output_type": "execute_result"
    }
   ],
   "source": [
    "task5_m1_good = pd.DataFrame([{\"Article\": row.name, 'mean_edit_timediff': measure_freq(row.name, task5_good)} for index, row in task5_good.iterrows()])\n",
    "\n",
    "task5_nsgood = pd.DataFrame(articles_nsgood.groupby('Article').agg('timestamp').unique())\n",
    "task5_m1_nsgood = pd.DataFrame([{\"Article\": row.name, 'mean_edit_timediff': measure_freq(row.name, task5_nsgood)} for index, row in task5_nsgood.iterrows()])\n",
    "\n",
    "task5_m1_good.head()"
   ]
  },
  {
   "cell_type": "markdown",
   "metadata": {},
   "source": [
    "## Frequency of edits description:"
   ]
  },
  {
   "cell_type": "code",
   "execution_count": 48,
   "metadata": {},
   "outputs": [
    {
     "name": "stdout",
     "output_type": "stream",
     "text": [
      "Frequency of edits description (in second):\n",
      "Good\t|\tNot-So-Good\n"
     ]
    },
    {
     "data": {
      "text/html": [
       "<div>\n",
       "<style scoped>\n",
       "    .dataframe tbody tr th:only-of-type {\n",
       "        vertical-align: middle;\n",
       "    }\n",
       "\n",
       "    .dataframe tbody tr th {\n",
       "        vertical-align: top;\n",
       "    }\n",
       "\n",
       "    .dataframe thead th {\n",
       "        text-align: right;\n",
       "    }\n",
       "</style>\n",
       "<table border=\"1\" class=\"dataframe\">\n",
       "  <thead>\n",
       "    <tr style=\"text-align: right;\">\n",
       "      <th></th>\n",
       "      <th>mean_edit_timediff</th>\n",
       "      <th>mean_edit_timediff</th>\n",
       "    </tr>\n",
       "  </thead>\n",
       "  <tbody>\n",
       "    <tr>\n",
       "      <th>count</th>\n",
       "      <td>1.520000e+02</td>\n",
       "      <td>2.500000e+02</td>\n",
       "    </tr>\n",
       "    <tr>\n",
       "      <th>mean</th>\n",
       "      <td>9.967647e+06</td>\n",
       "      <td>3.165624e+06</td>\n",
       "    </tr>\n",
       "    <tr>\n",
       "      <th>std</th>\n",
       "      <td>1.075210e+07</td>\n",
       "      <td>5.049724e+05</td>\n",
       "    </tr>\n",
       "    <tr>\n",
       "      <th>min</th>\n",
       "      <td>9.803746e+04</td>\n",
       "      <td>7.824103e+05</td>\n",
       "    </tr>\n",
       "    <tr>\n",
       "      <th>25%</th>\n",
       "      <td>2.856659e+06</td>\n",
       "      <td>2.915689e+06</td>\n",
       "    </tr>\n",
       "    <tr>\n",
       "      <th>50%</th>\n",
       "      <td>5.504580e+06</td>\n",
       "      <td>3.207897e+06</td>\n",
       "    </tr>\n",
       "    <tr>\n",
       "      <th>75%</th>\n",
       "      <td>1.443341e+07</td>\n",
       "      <td>3.446307e+06</td>\n",
       "    </tr>\n",
       "    <tr>\n",
       "      <th>max</th>\n",
       "      <td>4.889858e+07</td>\n",
       "      <td>4.441779e+06</td>\n",
       "    </tr>\n",
       "  </tbody>\n",
       "</table>\n",
       "</div>"
      ],
      "text/plain": [
       "       mean_edit_timediff  mean_edit_timediff\n",
       "count        1.520000e+02        2.500000e+02\n",
       "mean         9.967647e+06        3.165624e+06\n",
       "std          1.075210e+07        5.049724e+05\n",
       "min          9.803746e+04        7.824103e+05\n",
       "25%          2.856659e+06        2.915689e+06\n",
       "50%          5.504580e+06        3.207897e+06\n",
       "75%          1.443341e+07        3.446307e+06\n",
       "max          4.889858e+07        4.441779e+06"
      ]
     },
     "execution_count": 48,
     "metadata": {},
     "output_type": "execute_result"
    }
   ],
   "source": [
    "print('Frequency of edits description (in second):\\nGood\\t|\\tNot-So-Good')\n",
    "pd.concat([task5_m1_good.describe(), task5_m1_nsgood.describe()], axis=1)"
   ]
  },
  {
   "cell_type": "markdown",
   "metadata": {},
   "source": [
    "## Check the outliners\n",
    "\n",
    "### Good article"
   ]
  },
  {
   "cell_type": "code",
   "execution_count": 49,
   "metadata": {},
   "outputs": [
    {
     "data": {
      "image/png": "[encoded data removed]",
      "text/plain": [
       "<Figure size 432x288 with 1 Axes>"
      ]
     },
     "metadata": {},
     "output_type": "display_data"
    }
   ],
   "source": [
    "_=task5_m1_good.hist(column='mean_edit_timediff')"
   ]
  },
  {
   "cell_type": "code",
   "execution_count": 50,
   "metadata": {},
   "outputs": [
    {
     "data": {
      "image/png": "[encoded data removed]",
      "text/plain": [
       "<Figure size 432x288 with 1 Axes>"
      ]
     },
     "metadata": {},
     "output_type": "display_data"
    }
   ],
   "source": [
    "_=task5_m1_good.boxplot(column='mean_edit_timediff')"
   ]
  },
  {
   "cell_type": "code",
   "execution_count": 51,
   "metadata": {},
   "outputs": [
    {
     "data": {
      "text/html": [
       "<div>\n",
       "<style scoped>\n",
       "    .dataframe tbody tr th:only-of-type {\n",
       "        vertical-align: middle;\n",
       "    }\n",
       "\n",
       "    .dataframe tbody tr th {\n",
       "        vertical-align: top;\n",
       "    }\n",
       "\n",
       "    .dataframe thead th {\n",
       "        text-align: right;\n",
       "    }\n",
       "</style>\n",
       "<table border=\"1\" class=\"dataframe\">\n",
       "  <thead>\n",
       "    <tr style=\"text-align: right;\">\n",
       "      <th></th>\n",
       "      <th>mean_edit_timediff</th>\n",
       "    </tr>\n",
       "  </thead>\n",
       "  <tbody>\n",
       "    <tr>\n",
       "      <th>count</th>\n",
       "      <td>1.100000e+01</td>\n",
       "    </tr>\n",
       "    <tr>\n",
       "      <th>mean</th>\n",
       "      <td>3.947648e+07</td>\n",
       "    </tr>\n",
       "    <tr>\n",
       "      <th>std</th>\n",
       "      <td>6.098751e+06</td>\n",
       "    </tr>\n",
       "    <tr>\n",
       "      <th>min</th>\n",
       "      <td>3.157482e+07</td>\n",
       "    </tr>\n",
       "    <tr>\n",
       "      <th>25%</th>\n",
       "      <td>3.594868e+07</td>\n",
       "    </tr>\n",
       "    <tr>\n",
       "      <th>50%</th>\n",
       "      <td>3.666141e+07</td>\n",
       "    </tr>\n",
       "    <tr>\n",
       "      <th>75%</th>\n",
       "      <td>4.455724e+07</td>\n",
       "    </tr>\n",
       "    <tr>\n",
       "      <th>max</th>\n",
       "      <td>4.889858e+07</td>\n",
       "    </tr>\n",
       "  </tbody>\n",
       "</table>\n",
       "</div>"
      ],
      "text/plain": [
       "       mean_edit_timediff\n",
       "count        1.100000e+01\n",
       "mean         3.947648e+07\n",
       "std          6.098751e+06\n",
       "min          3.157482e+07\n",
       "25%          3.594868e+07\n",
       "50%          3.666141e+07\n",
       "75%          4.455724e+07\n",
       "max          4.889858e+07"
      ]
     },
     "execution_count": 51,
     "metadata": {},
     "output_type": "execute_result"
    }
   ],
   "source": [
    "# We treat 1t_diff > 3.1 1e7` (seconds) as outliners:\n",
    "\n",
    "outliners = task5_m1_good[ task5_m1_good>3.1*1e7 ]\n",
    "outliners.describe()"
   ]
  },
  {
   "cell_type": "code",
   "execution_count": 52,
   "metadata": {},
   "outputs": [
    {
     "data": {
      "text/html": [
       "<div>\n",
       "<style scoped>\n",
       "    .dataframe tbody tr th:only-of-type {\n",
       "        vertical-align: middle;\n",
       "    }\n",
       "\n",
       "    .dataframe tbody tr th {\n",
       "        vertical-align: top;\n",
       "    }\n",
       "\n",
       "    .dataframe thead th {\n",
       "        text-align: right;\n",
       "    }\n",
       "</style>\n",
       "<table border=\"1\" class=\"dataframe\">\n",
       "  <thead>\n",
       "    <tr style=\"text-align: right;\">\n",
       "      <th></th>\n",
       "      <th>Article</th>\n",
       "      <th>mean_edit_timediff</th>\n",
       "    </tr>\n",
       "  </thead>\n",
       "  <tbody>\n",
       "    <tr>\n",
       "      <th>108</th>\n",
       "      <td>Randy Pausch</td>\n",
       "      <td>31574818.00</td>\n",
       "    </tr>\n",
       "    <tr>\n",
       "      <th>122</th>\n",
       "      <td>Slashdot</td>\n",
       "      <td>33881003.60</td>\n",
       "    </tr>\n",
       "    <tr>\n",
       "      <th>20</th>\n",
       "      <td>Code42</td>\n",
       "      <td>35629939.60</td>\n",
       "    </tr>\n",
       "    <tr>\n",
       "      <th>105</th>\n",
       "      <td>Python (programming language)</td>\n",
       "      <td>36267430.25</td>\n",
       "    </tr>\n",
       "    <tr>\n",
       "      <th>150</th>\n",
       "      <td>ZX81</td>\n",
       "      <td>36643581.75</td>\n",
       "    </tr>\n",
       "  </tbody>\n",
       "</table>\n",
       "</div>"
      ],
      "text/plain": [
       "                           Article  mean_edit_timediff\n",
       "108                   Randy Pausch         31574818.00\n",
       "122                       Slashdot         33881003.60\n",
       "20                          Code42         35629939.60\n",
       "105  Python (programming language)         36267430.25\n",
       "150                           ZX81         36643581.75"
      ]
     },
     "execution_count": 52,
     "metadata": {},
     "output_type": "execute_result"
    }
   ],
   "source": [
    "outliners.sort_values(by='mean_edit_timediff').head()"
   ]
  },
  {
   "cell_type": "markdown",
   "metadata": {},
   "source": [
    "### Not-so-good article group"
   ]
  },
  {
   "cell_type": "code",
   "execution_count": 53,
   "metadata": {},
   "outputs": [
    {
     "data": {
      "image/png": "[encoded data removed]",
      "text/plain": [
       "<Figure size 432x288 with 1 Axes>"
      ]
     },
     "metadata": {},
     "output_type": "display_data"
    }
   ],
   "source": [
    "_=task5_m1_nsgood.boxplot(column='mean_edit_timediff')"
   ]
  },
  {
   "cell_type": "code",
   "execution_count": 54,
   "metadata": {},
   "outputs": [
    {
     "data": {
      "text/html": [
       "<div>\n",
       "<style scoped>\n",
       "    .dataframe tbody tr th:only-of-type {\n",
       "        vertical-align: middle;\n",
       "    }\n",
       "\n",
       "    .dataframe tbody tr th {\n",
       "        vertical-align: top;\n",
       "    }\n",
       "\n",
       "    .dataframe thead th {\n",
       "        text-align: right;\n",
       "    }\n",
       "</style>\n",
       "<table border=\"1\" class=\"dataframe\">\n",
       "  <thead>\n",
       "    <tr style=\"text-align: right;\">\n",
       "      <th></th>\n",
       "      <th>mean_edit_timediff</th>\n",
       "    </tr>\n",
       "  </thead>\n",
       "  <tbody>\n",
       "    <tr>\n",
       "      <th>count</th>\n",
       "      <td>8.000000e+00</td>\n",
       "    </tr>\n",
       "    <tr>\n",
       "      <th>mean</th>\n",
       "      <td>4.227316e+06</td>\n",
       "    </tr>\n",
       "    <tr>\n",
       "      <th>std</th>\n",
       "      <td>1.330242e+05</td>\n",
       "    </tr>\n",
       "    <tr>\n",
       "      <th>min</th>\n",
       "      <td>4.066607e+06</td>\n",
       "    </tr>\n",
       "    <tr>\n",
       "      <th>25%</th>\n",
       "      <td>4.110354e+06</td>\n",
       "    </tr>\n",
       "    <tr>\n",
       "      <th>50%</th>\n",
       "      <td>4.234942e+06</td>\n",
       "    </tr>\n",
       "    <tr>\n",
       "      <th>75%</th>\n",
       "      <td>4.309641e+06</td>\n",
       "    </tr>\n",
       "    <tr>\n",
       "      <th>max</th>\n",
       "      <td>4.441779e+06</td>\n",
       "    </tr>\n",
       "  </tbody>\n",
       "</table>\n",
       "</div>"
      ],
      "text/plain": [
       "       mean_edit_timediff\n",
       "count        8.000000e+00\n",
       "mean         4.227316e+06\n",
       "std          1.330242e+05\n",
       "min          4.066607e+06\n",
       "25%          4.110354e+06\n",
       "50%          4.234942e+06\n",
       "75%          4.309641e+06\n",
       "max          4.441779e+06"
      ]
     },
     "execution_count": 54,
     "metadata": {},
     "output_type": "execute_result"
    }
   ],
   "source": [
    "# We treat 1t_diff >4e6` (seconds) as outliners:\n",
    "\n",
    "outliners = task5_m1_nsgood[ task5_m1_nsgood>4e6 ]\n",
    "outliners.describe()"
   ]
  },
  {
   "cell_type": "code",
   "execution_count": 55,
   "metadata": {},
   "outputs": [
    {
     "data": {
      "text/html": [
       "<div>\n",
       "<style scoped>\n",
       "    .dataframe tbody tr th:only-of-type {\n",
       "        vertical-align: middle;\n",
       "    }\n",
       "\n",
       "    .dataframe tbody tr th {\n",
       "        vertical-align: top;\n",
       "    }\n",
       "\n",
       "    .dataframe thead th {\n",
       "        text-align: right;\n",
       "    }\n",
       "</style>\n",
       "<table border=\"1\" class=\"dataframe\">\n",
       "  <thead>\n",
       "    <tr style=\"text-align: right;\">\n",
       "      <th></th>\n",
       "      <th>Article</th>\n",
       "      <th>mean_edit_timediff</th>\n",
       "    </tr>\n",
       "  </thead>\n",
       "  <tbody>\n",
       "    <tr>\n",
       "      <th>193</th>\n",
       "      <td>Linux kernel</td>\n",
       "      <td>4.066607e+06</td>\n",
       "    </tr>\n",
       "    <tr>\n",
       "      <th>171</th>\n",
       "      <td>Intel 80386</td>\n",
       "      <td>4.082619e+06</td>\n",
       "    </tr>\n",
       "    <tr>\n",
       "      <th>91</th>\n",
       "      <td>Cybercrime</td>\n",
       "      <td>4.119598e+06</td>\n",
       "    </tr>\n",
       "    <tr>\n",
       "      <th>160</th>\n",
       "      <td>IPv6</td>\n",
       "      <td>4.204394e+06</td>\n",
       "    </tr>\n",
       "    <tr>\n",
       "      <th>76</th>\n",
       "      <td>Computer network</td>\n",
       "      <td>4.265490e+06</td>\n",
       "    </tr>\n",
       "  </tbody>\n",
       "</table>\n",
       "</div>"
      ],
      "text/plain": [
       "              Article  mean_edit_timediff\n",
       "193      Linux kernel        4.066607e+06\n",
       "171       Intel 80386        4.082619e+06\n",
       "91         Cybercrime        4.119598e+06\n",
       "160              IPv6        4.204394e+06\n",
       "76   Computer network        4.265490e+06"
      ]
     },
     "execution_count": 55,
     "metadata": {},
     "output_type": "execute_result"
    }
   ],
   "source": [
    "outliners.sort_values(by='mean_edit_timediff').head()"
   ]
  },
  {
   "cell_type": "markdown",
   "metadata": {},
   "source": [
    "## Again, let's compare with the other group"
   ]
  },
  {
   "cell_type": "code",
   "execution_count": 56,
   "metadata": {},
   "outputs": [
    {
     "data": {
      "image/png": "[encoded data removed]",
      "text/plain": [
       "<Figure size 432x288 with 1 Axes>"
      ]
     },
     "metadata": {},
     "output_type": "display_data"
    }
   ],
   "source": [
    "_=plt.boxplot([task5_m1_good['mean_edit_timediff'], task5_m1_nsgood['mean_edit_timediff']])"
   ]
  },
  {
   "cell_type": "markdown",
   "metadata": {},
   "source": [
    "## Conclusions:\n",
    "\n",
    "The good-article group has larger frequency of edit than the not-so-good articles, which invalid my original hypothesis that\n",
    "`Good articles have lower frequency of edits than the not-so-good articles`\n",
    "\n",
    "The outliners of both group are articles that relatively old or not so popular (that's why they have lower editting frequency), e.g. \n",
    "[Randy Pausch](https://en.wikipedia.org/wiki/Randy_Pausch), [Intel 80386](https://en.wikipedia.org/wiki/Intel_80386) and [Linux kernel](https://en.wikipedia.org/wiki/Linux kernel)"
   ]
  },
  {
   "cell_type": "code",
   "execution_count": null,
   "metadata": {},
   "outputs": [],
   "source": []
  },
  {
   "cell_type": "code",
   "execution_count": null,
   "metadata": {},
   "outputs": [],
   "source": []
  }
 ],
 "metadata": {
  "kernelspec": {
   "display_name": "Python 3",
   "language": "python",
   "name": "python3"
  },
  "language_info": {
   "codemirror_mode": {
    "name": "ipython",
    "version": 3
   },
   "file_extension": ".py",
   "mimetype": "text/x-python",
   "name": "python",
   "nbconvert_exporter": "python",
   "pygments_lexer": "ipython3",
   "version": "3.6.5"
  }
 },
 "nbformat": 4,
 "nbformat_minor": 2
}
