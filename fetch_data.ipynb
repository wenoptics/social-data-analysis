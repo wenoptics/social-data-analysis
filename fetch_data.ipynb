{
 "cells": [
  {
   "cell_type": "markdown",
   "metadata": {},
   "source": [
    "# Get Wiki"
   ]
  },
  {
   "cell_type": "code",
   "execution_count": 19,
   "metadata": {},
   "outputs": [
    {
     "name": "stdout",
     "output_type": "stream",
     "text": [
      "groupGood: n = 152\n",
      "groupNSGood: n = 250\n"
     ]
    }
   ],
   "source": [
    "from WikiComponents import Article\n",
    "from helper import read_csv\n",
    "\n",
    "article_list = read_csv(\"data/articles.csv\",\n",
    "                        lambda row: Article(id_=row[1], grade=row[2]))\n",
    "\n",
    "# Group those `good` and `not-so-good` articles\n",
    "groupGood = list(filter(lambda i: i.grade in ['A', 'FA', 'GA'], article_list))\n",
    "groupNSGood = list(filter(lambda i: i.grade in ['C', 'Start'], article_list))\n",
    "\n",
    "print('groupGood: n =', len(groupGood))\n",
    "print('groupNSGood: n =', len(groupNSGood))"
   ]
  },
  {
   "cell_type": "code",
   "execution_count": 20,
   "metadata": {},
   "outputs": [],
   "source": [
    "article = groupGood[0]"
   ]
  },
  {
   "cell_type": "markdown",
   "metadata": {},
   "source": [
    "## Unique Contributors"
   ]
  },
  {
   "cell_type": "code",
   "execution_count": null,
   "metadata": {
    "collapsed": false
   },
   "outputs": [
    {
     "name": "stdout",
     "output_type": "stream",
     "text": [
      "[i] requesting \"https://en.wikipedia.org/w/api.php?action=query&titles=Parallel computing&prop=contributors\" with param {'format': 'json'}\n"
     ]
    },
    {
     "data": {
      "text/plain": [
       "{'anoncontributors': 298, 'contributors': 10}"
      ]
     },
     "execution_count": 21,
     "metadata": {},
     "output_type": "execute_result"
    }
   ],
   "source": [
    "from WikiComponents import WikiAPI\n",
    "from helper import get_first_query_page\n",
    "\n",
    "# todo Use combined query makes more efficient.\n",
    "_url = \"api.php?action=query&titles={article_id}&prop=contributors\"\n",
    "\n",
    "resp = WikiAPI.get(_url.format(article_id=article.id_))\n",
    "first = get_first_query_page(resp)\n",
    "n_contributers_a = first['anoncontributors']\n",
    "n_contributers = len(first['contributors'])\n",
    "{'anoncontributors': n_contributers_a, 'contributors': n_contributers}"
   ]
  },
  {
   "cell_type": "markdown",
   "metadata": {},
   "source": [
    "## Editor Revisions"
   ]
  },
  {
   "cell_type": "code",
   "execution_count": 22,
   "metadata": {},
   "outputs": [
    {
     "name": "stdout",
     "output_type": "stream",
     "text": [
      "[i] requesting \"https://en.wikipedia.org/w/api.php?action=query&prop=revisions&titles=Parallel computing&rvprop=timestamp|user|userid&rvlimit=max\" with param {'format': 'json'}\n",
      "[i] requesting \"https://en.wikipedia.org/w/api.php?action=query&prop=revisions&titles=Parallel computing&rvprop=timestamp|user|userid&rvlimit=max\" with param {'rvcontinue': '20091122170409|327311047', 'format': 'json'}\n",
      "[i] requesting \"https://en.wikipedia.org/w/api.php?action=query&prop=revisions&titles=Parallel computing&rvprop=timestamp|user|userid&rvlimit=max\" with param {'rvcontinue': '20071206015016|176063487', 'format': 'json'}\n",
      "[i] requesting \"https://en.wikipedia.org/w/api.php?action=query&prop=revisions&titles=Parallel computing&rvprop=timestamp|user|userid&rvlimit=max\" with param {'rvcontinue': '20021108120211|411890', 'format': 'json'}\n"
     ]
    }
   ],
   "source": [
    "_url = 'api.php?action=query&prop=revisions&titles={article_id}' \\\n",
    "       '&rvprop=timestamp|user|userid&rvlimit=max'\n",
    "dict_rev_info = {}\n",
    "\n",
    "\n",
    "def proc(resp: dict):\n",
    "    \"\"\"\n",
    "    \"revisions\": [\n",
    "    {\n",
    "        \"user\": \"74.96.187.144\",\n",
    "        \"anon\": \"\",\n",
    "        \"userid\": 0,\n",
    "        \"timestamp\": \"2009-11-22T17:04:09Z\"\n",
    "    },\n",
    "    {\n",
    "        \"user\": \"Miym\",\n",
    "        \"userid\": 8436643,\n",
    "        \"timestamp\": \"2009-07-30T15:35:49Z\"\n",
    "    }\n",
    "    \"\"\"\n",
    "    first = get_first_query_page(resp)\n",
    "    for rv in first['revisions']:\n",
    "        uid = rv['userid']\n",
    "        if uid in dict_rev_info:\n",
    "            dict_rev_info[uid].append(rv)\n",
    "        else:\n",
    "            dict_rev_info[uid] = [rv]\n",
    "            \n",
    "            \n",
    "u = _url.format(article_id=article.id_)\n",
    "resp = WikiAPI.get(u)\n",
    "proc(resp)\n",
    "\n",
    "# Pagination\n",
    "while resp.get('continue') and resp['continue'].get('rvcontinue'):\n",
    "    resp = WikiAPI.get(u, {'rvcontinue': resp['continue']['rvcontinue']})\n",
    "    proc(resp)\n",
    "\n",
    "# print(dict_rev_info)"
   ]
  },
  {
   "cell_type": "code",
   "execution_count": 23,
   "metadata": {},
   "outputs": [],
   "source": [
    "from dateutil.parser import parse as dtparse\n",
    "from helper import is_bot_user, calc_freq\n",
    "\n",
    "# Number of edits per editors\n",
    "pass\n",
    "\n",
    "# Frequency of edits (time between edits)\n",
    "overall_edit_timestamp = []\n",
    "overall_edit_nonbot_timestamp = []\n",
    "for editor in dict_rev_info.values():\n",
    "    is_bot = is_bot_user(editor[0]['user'], editor[0]['userid'])\n",
    "    for rv in editor:\n",
    "        ts = rv.get('timestamp')\n",
    "        ts = dtparse(ts).timestamp()\n",
    "        rv['timestamp_parsed'] = ts\n",
    "        overall_edit_timestamp.append(ts)\n",
    "        if not is_bot:\n",
    "            overall_edit_nonbot_timestamp.append(ts)\n",
    "\n",
    "freq_overall = calc_freq(overall_edit_timestamp)\n",
    "freq_overall_nonbot = calc_freq(overall_edit_nonbot_timestamp)\n",
    "\n",
    "freq_per_editor = {}\n",
    "# edit freq per editor\n",
    "for uid, revisions in dict_rev_info.items():\n",
    "    freq_per_editor[uid] = calc_freq([rv['timestamp_parsed'] for rv in revisions])"
   ]
  },
  {
   "cell_type": "markdown",
   "metadata": {},
   "source": [
    "## Talk-Page Posts"
   ]
  },
  {
   "cell_type": "code",
   "execution_count": 24,
   "metadata": {},
   "outputs": [
    {
     "data": {
      "text/plain": [
       "7"
      ]
     },
     "execution_count": 24,
     "metadata": {},
     "output_type": "execute_result"
    }
   ],
   "source": [
    "from WikiComponents import WikiBrowser\n",
    "\n",
    "html_root = WikiBrowser.get_talk_page(article.id_)\n",
    "len(html_root.find('div', id='bodyContent').find_all('h2'))"
   ]
  },
  {
   "cell_type": "markdown",
   "metadata": {},
   "source": [
    "## Number of editors posting on talk-pages"
   ]
  },
  {
   "cell_type": "code",
   "execution_count": 25,
   "metadata": {},
   "outputs": [
    {
     "data": {
      "text/plain": [
       "74"
      ]
     },
     "execution_count": 25,
     "metadata": {},
     "output_type": "execute_result"
    }
   ],
   "source": [
    "# Use an API provided by XTools Wiki-Project\n",
    "import requests\n",
    "\n",
    "_url = 'https://xtools.wmflabs.org/api/page/articleinfo/en.wikipedia.org/Talk:{article_id}'\n",
    "resp = requests.get(_url.format(article_id=article.id_)).json()\n",
    "resp['editors']"
   ]
  },
  {
   "cell_type": "code",
   "execution_count": null,
   "metadata": {},
   "outputs": [],
   "source": []
  }
 ],
 "metadata": {
  "kernelspec": {
   "display_name": "Python 3",
   "language": "python",
   "name": "python3"
  },
  "language_info": {
   "codemirror_mode": {
    "name": "ipython",
    "version": 3
   },
   "file_extension": ".py",
   "mimetype": "text/x-python",
   "name": "python",
   "nbconvert_exporter": "python",
   "pygments_lexer": "ipython3",
   "version": "3.6.4"
  }
 },
 "nbformat": 4,
 "nbformat_minor": 2
}
